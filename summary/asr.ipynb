{
  "cells": [
    {
      "cell_type": "code",
      "execution_count": 1,
      "metadata": {
        "id": "05jtIQh0nknt"
      },
      "outputs": [
        {
          "name": "stdout",
          "output_type": "stream",
          "text": [
            "Requirement already satisfied: transformers in /home/gautam/.local/lib/python3.8/site-packages (4.38.2)\n",
            "Requirement already satisfied: datasets in /home/gautam/.local/lib/python3.8/site-packages (2.18.0)\n",
            "Requirement already satisfied: safetensors>=0.4.1 in /home/gautam/.local/lib/python3.8/site-packages (from transformers) (0.4.2)\n",
            "Requirement already satisfied: filelock in /home/gautam/.local/lib/python3.8/site-packages (from transformers) (3.13.1)\n",
            "Requirement already satisfied: tqdm>=4.27 in /home/gautam/.local/lib/python3.8/site-packages (from transformers) (4.66.2)\n",
            "Requirement already satisfied: regex!=2019.12.17 in /home/gautam/.local/lib/python3.8/site-packages (from transformers) (2023.12.25)\n",
            "Requirement already satisfied: requests in /home/gautam/.local/lib/python3.8/site-packages (from transformers) (2.31.0)\n",
            "Requirement already satisfied: tokenizers<0.19,>=0.14 in /home/gautam/.local/lib/python3.8/site-packages (from transformers) (0.15.2)\n",
            "Requirement already satisfied: numpy>=1.17 in /home/gautam/.local/lib/python3.8/site-packages (from transformers) (1.24.4)\n",
            "Requirement already satisfied: pyyaml>=5.1 in /usr/lib/python3/dist-packages (from transformers) (5.3.1)\n",
            "Requirement already satisfied: packaging>=20.0 in /home/gautam/.local/lib/python3.8/site-packages (from transformers) (24.0)\n",
            "Requirement already satisfied: huggingface-hub<1.0,>=0.19.3 in /home/gautam/.local/lib/python3.8/site-packages (from transformers) (0.21.4)\n",
            "Requirement already satisfied: dill<0.3.9,>=0.3.0 in /home/gautam/.local/lib/python3.8/site-packages (from datasets) (0.3.8)\n",
            "Requirement already satisfied: pyarrow-hotfix in /home/gautam/.local/lib/python3.8/site-packages (from datasets) (0.6)\n",
            "Requirement already satisfied: aiohttp in /home/gautam/.local/lib/python3.8/site-packages (from datasets) (3.9.3)\n",
            "Requirement already satisfied: pandas in /home/gautam/.local/lib/python3.8/site-packages (from datasets) (2.0.3)\n",
            "Requirement already satisfied: xxhash in /home/gautam/.local/lib/python3.8/site-packages (from datasets) (3.4.1)\n",
            "Requirement already satisfied: pyarrow>=12.0.0 in /home/gautam/.local/lib/python3.8/site-packages (from datasets) (15.0.2)\n",
            "Requirement already satisfied: fsspec[http]<=2024.2.0,>=2023.1.0 in /home/gautam/.local/lib/python3.8/site-packages (from datasets) (2024.2.0)\n",
            "Requirement already satisfied: multiprocess in /home/gautam/.local/lib/python3.8/site-packages (from datasets) (0.70.16)\n",
            "Requirement already satisfied: idna<4,>=2.5 in /usr/lib/python3/dist-packages (from requests->transformers) (2.8)\n",
            "Requirement already satisfied: certifi>=2017.4.17 in /home/gautam/.local/lib/python3.8/site-packages (from requests->transformers) (2024.2.2)\n",
            "Requirement already satisfied: charset-normalizer<4,>=2 in /home/gautam/.local/lib/python3.8/site-packages (from requests->transformers) (3.3.2)\n",
            "Requirement already satisfied: urllib3<3,>=1.21.1 in /home/gautam/.local/lib/python3.8/site-packages (from requests->transformers) (2.2.1)\n",
            "Requirement already satisfied: typing-extensions>=3.7.4.3 in /home/gautam/.local/lib/python3.8/site-packages (from huggingface-hub<1.0,>=0.19.3->transformers) (4.10.0)\n",
            "Requirement already satisfied: aiosignal>=1.1.2 in /home/gautam/.local/lib/python3.8/site-packages (from aiohttp->datasets) (1.3.1)\n",
            "Requirement already satisfied: attrs>=17.3.0 in /usr/lib/python3/dist-packages (from aiohttp->datasets) (19.3.0)\n",
            "Requirement already satisfied: frozenlist>=1.1.1 in /home/gautam/.local/lib/python3.8/site-packages (from aiohttp->datasets) (1.4.1)\n",
            "Requirement already satisfied: async-timeout<5.0,>=4.0; python_version < \"3.11\" in /home/gautam/.local/lib/python3.8/site-packages (from aiohttp->datasets) (4.0.3)\n",
            "Requirement already satisfied: multidict<7.0,>=4.5 in /home/gautam/.local/lib/python3.8/site-packages (from aiohttp->datasets) (6.0.5)\n",
            "Requirement already satisfied: yarl<2.0,>=1.0 in /home/gautam/.local/lib/python3.8/site-packages (from aiohttp->datasets) (1.9.4)\n",
            "Requirement already satisfied: tzdata>=2022.1 in /home/gautam/.local/lib/python3.8/site-packages (from pandas->datasets) (2024.1)\n",
            "Requirement already satisfied: python-dateutil>=2.8.2 in /home/gautam/.local/lib/python3.8/site-packages (from pandas->datasets) (2.9.0.post0)\n",
            "Requirement already satisfied: pytz>=2020.1 in /home/gautam/.local/lib/python3.8/site-packages (from pandas->datasets) (2024.1)\n",
            "Requirement already satisfied: six>=1.5 in /usr/lib/python3/dist-packages (from python-dateutil>=2.8.2->pandas->datasets) (1.14.0)\n"
          ]
        }
      ],
      "source": [
        "# Transformers installation\n",
        "! pip install transformers datasets\n",
        "# To install from source instead of the last release, comment the command above and uncomment the following one.\n",
        "# ! pip install git+https://github.com/huggingface/transformers.git"
      ]
    },
    {
      "cell_type": "markdown",
      "metadata": {
        "id": "tR8szH2Jnknw"
      },
      "source": [
        "# Automatic speech recognition"
      ]
    },
    {
      "cell_type": "code",
      "execution_count": null,
      "metadata": {
        "hide_input": true,
        "id": "_puCF6PLnkny",
        "outputId": "a08656cb-8d73-4eb9-ea70-95708b61c673"
      },
      "outputs": [
        {
          "data": {
            "text/html": [
              "<iframe width=\"560\" height=\"315\" src=\"https://www.youtube.com/embed/TksaY_FDgnk?rel=0&amp;controls=0&amp;showinfo=0\" frameborder=\"0\" allowfullscreen></iframe>"
            ],
            "text/plain": [
              "<IPython.core.display.HTML object>"
            ]
          },
          "execution_count": null,
          "metadata": {},
          "output_type": "execute_result"
        }
      ],
      "source": [
        "#@title\n",
        "from IPython.display import HTML\n",
        "\n",
        "HTML('<iframe width=\"560\" height=\"315\" src=\"https://www.youtube.com/embed/TksaY_FDgnk?rel=0&amp;controls=0&amp;showinfo=0\" frameborder=\"0\" allowfullscreen></iframe>')"
      ]
    },
    {
      "cell_type": "markdown",
      "metadata": {
        "id": "1SnNiRCunknz"
      },
      "source": [
        "Automatic speech recognition (ASR) converts a speech signal to text, mapping a sequence of audio inputs to text outputs. Virtual assistants like Siri and Alexa use ASR models to help users everyday, and there are many other useful user-facing applications like live captioning and note-taking during meetings.\n",
        "\n",
        "This guide will show you how to:\n",
        "\n",
        "1. Finetune [Wav2Vec2](https://huggingface.co/facebook/wav2vec2-base) on the [MInDS-14](https://huggingface.co/datasets/PolyAI/minds14) dataset to transcribe audio to text.\n",
        "2. Use your finetuned model for inference.\n",
        "\n",
        "<Tip>\n",
        "The task illustrated in this tutorial is supported by the following model architectures:\n",
        "\n",
        "<!--This tip is automatically generated by `make fix-copies`, do not fill manually!-->\n",
        "\n",
        "[Data2VecAudio](https://huggingface.co/docs/transformers/main/en/tasks/../model_doc/data2vec-audio), [Hubert](https://huggingface.co/docs/transformers/main/en/tasks/../model_doc/hubert), [M-CTC-T](https://huggingface.co/docs/transformers/main/en/tasks/../model_doc/mctct), [SEW](https://huggingface.co/docs/transformers/main/en/tasks/../model_doc/sew), [SEW-D](https://huggingface.co/docs/transformers/main/en/tasks/../model_doc/sew-d), [UniSpeech](https://huggingface.co/docs/transformers/main/en/tasks/../model_doc/unispeech), [UniSpeechSat](https://huggingface.co/docs/transformers/main/en/tasks/../model_doc/unispeech-sat), [Wav2Vec2](https://huggingface.co/docs/transformers/main/en/tasks/../model_doc/wav2vec2), [Wav2Vec2-Conformer](https://huggingface.co/docs/transformers/main/en/tasks/../model_doc/wav2vec2-conformer), [WavLM](https://huggingface.co/docs/transformers/main/en/tasks/../model_doc/wavlm)\n",
        "\n",
        "<!--End of the generated tip-->\n",
        "\n",
        "</Tip>\n",
        "\n",
        "Before you begin, make sure you have all the necessary libraries installed:\n",
        "\n",
        "```bash\n",
        "pip install transformers datasets evaluate jiwer\n",
        "```\n",
        "\n",
        "We encourage you to login to your Hugging Face account so you can upload and share your model with the community. When prompted, enter your token to login:"
      ]
    },
    {
      "cell_type": "code",
      "execution_count": 2,
      "metadata": {},
      "outputs": [
        {
          "name": "stdout",
          "output_type": "stream",
          "text": [
            "Requirement already satisfied: transformers in /home/gautam/.local/lib/python3.8/site-packages (4.38.2)\n",
            "Requirement already satisfied: datasets in /home/gautam/.local/lib/python3.8/site-packages (2.18.0)\n",
            "Requirement already satisfied: evaluate in /home/gautam/.local/lib/python3.8/site-packages (0.4.1)\n",
            "Requirement already satisfied: jiwer in /home/gautam/.local/lib/python3.8/site-packages (3.0.3)\n",
            "Requirement already satisfied: filelock in /home/gautam/.local/lib/python3.8/site-packages (from transformers) (3.13.1)\n",
            "Requirement already satisfied: huggingface-hub<1.0,>=0.19.3 in /home/gautam/.local/lib/python3.8/site-packages (from transformers) (0.21.4)\n",
            "Requirement already satisfied: packaging>=20.0 in /home/gautam/.local/lib/python3.8/site-packages (from transformers) (24.0)\n",
            "Requirement already satisfied: tokenizers<0.19,>=0.14 in /home/gautam/.local/lib/python3.8/site-packages (from transformers) (0.15.2)\n",
            "Requirement already satisfied: safetensors>=0.4.1 in /home/gautam/.local/lib/python3.8/site-packages (from transformers) (0.4.2)\n",
            "Requirement already satisfied: tqdm>=4.27 in /home/gautam/.local/lib/python3.8/site-packages (from transformers) (4.66.2)\n",
            "Requirement already satisfied: requests in /home/gautam/.local/lib/python3.8/site-packages (from transformers) (2.31.0)\n",
            "Requirement already satisfied: regex!=2019.12.17 in /home/gautam/.local/lib/python3.8/site-packages (from transformers) (2023.12.25)\n",
            "Requirement already satisfied: pyyaml>=5.1 in /usr/lib/python3/dist-packages (from transformers) (5.3.1)\n",
            "Requirement already satisfied: numpy>=1.17 in /home/gautam/.local/lib/python3.8/site-packages (from transformers) (1.24.4)\n",
            "Requirement already satisfied: pandas in /home/gautam/.local/lib/python3.8/site-packages (from datasets) (2.0.3)\n",
            "Requirement already satisfied: dill<0.3.9,>=0.3.0 in /home/gautam/.local/lib/python3.8/site-packages (from datasets) (0.3.8)\n",
            "Requirement already satisfied: fsspec[http]<=2024.2.0,>=2023.1.0 in /home/gautam/.local/lib/python3.8/site-packages (from datasets) (2024.2.0)\n",
            "Requirement already satisfied: aiohttp in /home/gautam/.local/lib/python3.8/site-packages (from datasets) (3.9.3)\n",
            "Requirement already satisfied: multiprocess in /home/gautam/.local/lib/python3.8/site-packages (from datasets) (0.70.16)\n",
            "Requirement already satisfied: xxhash in /home/gautam/.local/lib/python3.8/site-packages (from datasets) (3.4.1)\n",
            "Requirement already satisfied: pyarrow>=12.0.0 in /home/gautam/.local/lib/python3.8/site-packages (from datasets) (15.0.2)\n",
            "Requirement already satisfied: pyarrow-hotfix in /home/gautam/.local/lib/python3.8/site-packages (from datasets) (0.6)\n",
            "Requirement already satisfied: responses<0.19 in /home/gautam/.local/lib/python3.8/site-packages (from evaluate) (0.18.0)\n",
            "Requirement already satisfied: click<9.0.0,>=8.1.3 in /home/gautam/.local/lib/python3.8/site-packages (from jiwer) (8.1.7)\n",
            "Requirement already satisfied: rapidfuzz<4,>=3 in /home/gautam/.local/lib/python3.8/site-packages (from jiwer) (3.7.0)\n",
            "Requirement already satisfied: typing-extensions>=3.7.4.3 in /home/gautam/.local/lib/python3.8/site-packages (from huggingface-hub<1.0,>=0.19.3->transformers) (4.10.0)\n",
            "Requirement already satisfied: idna<4,>=2.5 in /usr/lib/python3/dist-packages (from requests->transformers) (2.8)\n",
            "Requirement already satisfied: urllib3<3,>=1.21.1 in /home/gautam/.local/lib/python3.8/site-packages (from requests->transformers) (2.2.1)\n",
            "Requirement already satisfied: charset-normalizer<4,>=2 in /home/gautam/.local/lib/python3.8/site-packages (from requests->transformers) (3.3.2)\n",
            "Requirement already satisfied: certifi>=2017.4.17 in /home/gautam/.local/lib/python3.8/site-packages (from requests->transformers) (2024.2.2)\n",
            "Requirement already satisfied: tzdata>=2022.1 in /home/gautam/.local/lib/python3.8/site-packages (from pandas->datasets) (2024.1)\n",
            "Requirement already satisfied: pytz>=2020.1 in /home/gautam/.local/lib/python3.8/site-packages (from pandas->datasets) (2024.1)\n",
            "Requirement already satisfied: python-dateutil>=2.8.2 in /home/gautam/.local/lib/python3.8/site-packages (from pandas->datasets) (2.9.0.post0)\n",
            "Requirement already satisfied: yarl<2.0,>=1.0 in /home/gautam/.local/lib/python3.8/site-packages (from aiohttp->datasets) (1.9.4)\n",
            "Requirement already satisfied: attrs>=17.3.0 in /usr/lib/python3/dist-packages (from aiohttp->datasets) (19.3.0)\n",
            "Requirement already satisfied: frozenlist>=1.1.1 in /home/gautam/.local/lib/python3.8/site-packages (from aiohttp->datasets) (1.4.1)\n",
            "Requirement already satisfied: aiosignal>=1.1.2 in /home/gautam/.local/lib/python3.8/site-packages (from aiohttp->datasets) (1.3.1)\n",
            "Requirement already satisfied: multidict<7.0,>=4.5 in /home/gautam/.local/lib/python3.8/site-packages (from aiohttp->datasets) (6.0.5)\n",
            "Requirement already satisfied: async-timeout<5.0,>=4.0; python_version < \"3.11\" in /home/gautam/.local/lib/python3.8/site-packages (from aiohttp->datasets) (4.0.3)\n",
            "Requirement already satisfied: six>=1.5 in /usr/lib/python3/dist-packages (from python-dateutil>=2.8.2->pandas->datasets) (1.14.0)\n"
          ]
        }
      ],
      "source": [
        "!pip install transformers datasets evaluate jiwer\n"
      ]
    },
    {
      "cell_type": "markdown",
      "metadata": {
        "id": "jft8Jf8tnkn1"
      },
      "source": [
        "## Load MInDS-14 dataset"
      ]
    },
    {
      "cell_type": "markdown",
      "metadata": {
        "id": "IB_haXO9nkn1"
      },
      "source": [
        "Start by loading a smaller subset of the [MInDS-14](https://huggingface.co/datasets/PolyAI/minds14) dataset from the 🤗 Datasets library. This'll give you a chance to experiment and make sure everything works before spending more time training on the full dataset."
      ]
    },
    {
      "cell_type": "code",
      "execution_count": 3,
      "metadata": {},
      "outputs": [
        {
          "name": "stdout",
          "output_type": "stream",
          "text": [
            "Requirement already satisfied: soundfile in /home/gautam/.local/lib/python3.8/site-packages (0.12.1)\n",
            "Requirement already satisfied: cffi>=1.0 in /home/gautam/.local/lib/python3.8/site-packages (from soundfile) (1.16.0)\n",
            "Requirement already satisfied: pycparser in /home/gautam/.local/lib/python3.8/site-packages (from cffi>=1.0->soundfile) (2.21)\n"
          ]
        }
      ],
      "source": [
        "!pip install soundfile"
      ]
    },
    {
      "cell_type": "code",
      "execution_count": 4,
      "metadata": {
        "id": "RPkMcU_8nkn2"
      },
      "outputs": [
        {
          "name": "stderr",
          "output_type": "stream",
          "text": [
            "/home/gautam/.local/lib/python3.8/site-packages/tqdm/auto.py:21: TqdmWarning: IProgress not found. Please update jupyter and ipywidgets. See https://ipywidgets.readthedocs.io/en/stable/user_install.html\n",
            "  from .autonotebook import tqdm as notebook_tqdm\n",
            "/home/gautam/.local/lib/python3.8/site-packages/datasets/load.py:1461: FutureWarning: The repository for PolyAI/minds14 contains custom code which must be executed to correctly load the dataset. You can inspect the repository content at https://hf.co/datasets/PolyAI/minds14\n",
            "You can avoid this message in future by passing the argument `trust_remote_code=True`.\n",
            "Passing `trust_remote_code=True` will be mandatory to load this dataset from the next major release of `datasets`.\n",
            "  warnings.warn(\n"
          ]
        }
      ],
      "source": [
        "from datasets import load_dataset, Audio\n",
        "\n",
        "minds = load_dataset(\"PolyAI/minds14\", name=\"en-US\", split=\"train[:100]\")"
      ]
    },
    {
      "cell_type": "markdown",
      "metadata": {
        "id": "htJ1uQ0tnkn3"
      },
      "source": [
        "Split the dataset's `train` split into a train and test set with the `~Dataset.train_test_split` method:"
      ]
    },
    {
      "cell_type": "code",
      "execution_count": 5,
      "metadata": {
        "id": "2kZ9dOqXnkn3"
      },
      "outputs": [],
      "source": [
        "minds = minds.train_test_split(test_size=0.2)"
      ]
    },
    {
      "cell_type": "markdown",
      "metadata": {
        "id": "fq0YL_Z8nkn4"
      },
      "source": [
        "Then take a look at the dataset:"
      ]
    },
    {
      "cell_type": "code",
      "execution_count": 6,
      "metadata": {
        "id": "2e99uEcknkn4",
        "outputId": "4d564527-ed53-42b9-ff6d-873ca7df43b7"
      },
      "outputs": [
        {
          "data": {
            "text/plain": [
              "DatasetDict({\n",
              "    train: Dataset({\n",
              "        features: ['path', 'audio', 'transcription', 'english_transcription', 'intent_class', 'lang_id'],\n",
              "        num_rows: 80\n",
              "    })\n",
              "    test: Dataset({\n",
              "        features: ['path', 'audio', 'transcription', 'english_transcription', 'intent_class', 'lang_id'],\n",
              "        num_rows: 20\n",
              "    })\n",
              "})"
            ]
          },
          "execution_count": 6,
          "metadata": {},
          "output_type": "execute_result"
        }
      ],
      "source": [
        "minds"
      ]
    },
    {
      "cell_type": "markdown",
      "metadata": {
        "id": "7r0Uy8Wjnkn4"
      },
      "source": [
        "While the dataset contains a lot of useful information, like `lang_id` and `english_transcription`, you'll focus on the `audio` and `transcription` in this guide. Remove the other columns with the [remove_columns](https://huggingface.co/docs/datasets/main/en/package_reference/main_classes#datasets.Dataset.remove_columns) method:"
      ]
    },
    {
      "cell_type": "code",
      "execution_count": 7,
      "metadata": {
        "id": "uy1863tYnkn4"
      },
      "outputs": [],
      "source": [
        "minds = minds.remove_columns([\"english_transcription\", \"intent_class\", \"lang_id\"])"
      ]
    },
    {
      "cell_type": "markdown",
      "metadata": {
        "id": "jrJua2khnkn4"
      },
      "source": [
        "Take a look at the example again:"
      ]
    },
    {
      "cell_type": "code",
      "execution_count": 8,
      "metadata": {},
      "outputs": [
        {
          "name": "stdout",
          "output_type": "stream",
          "text": [
            "Requirement already satisfied: librosa in /home/gautam/.local/lib/python3.8/site-packages (0.10.1)\n",
            "Requirement already satisfied: lazy-loader>=0.1 in /home/gautam/.local/lib/python3.8/site-packages (from librosa) (0.3)\n",
            "Requirement already satisfied: soundfile>=0.12.1 in /home/gautam/.local/lib/python3.8/site-packages (from librosa) (0.12.1)\n",
            "Requirement already satisfied: scipy>=1.2.0 in /home/gautam/.local/lib/python3.8/site-packages (from librosa) (1.10.1)\n",
            "Requirement already satisfied: typing-extensions>=4.1.1 in /home/gautam/.local/lib/python3.8/site-packages (from librosa) (4.10.0)\n",
            "Requirement already satisfied: pooch>=1.0 in /home/gautam/.local/lib/python3.8/site-packages (from librosa) (1.8.1)\n",
            "Requirement already satisfied: numpy!=1.22.0,!=1.22.1,!=1.22.2,>=1.20.3 in /home/gautam/.local/lib/python3.8/site-packages (from librosa) (1.24.4)\n",
            "Requirement already satisfied: scikit-learn>=0.20.0 in /home/gautam/.local/lib/python3.8/site-packages (from librosa) (1.3.2)\n",
            "Requirement already satisfied: decorator>=4.3.0 in /home/gautam/.local/lib/python3.8/site-packages (from librosa) (5.1.1)\n",
            "Requirement already satisfied: soxr>=0.3.2 in /home/gautam/.local/lib/python3.8/site-packages (from librosa) (0.3.7)\n",
            "Requirement already satisfied: msgpack>=1.0 in /home/gautam/.local/lib/python3.8/site-packages (from librosa) (1.0.8)\n",
            "Requirement already satisfied: audioread>=2.1.9 in /home/gautam/.local/lib/python3.8/site-packages (from librosa) (3.0.1)\n",
            "Requirement already satisfied: numba>=0.51.0 in /home/gautam/.local/lib/python3.8/site-packages (from librosa) (0.58.1)\n",
            "Requirement already satisfied: joblib>=0.14 in /home/gautam/.local/lib/python3.8/site-packages (from librosa) (1.3.2)\n",
            "Requirement already satisfied: cffi>=1.0 in /home/gautam/.local/lib/python3.8/site-packages (from soundfile>=0.12.1->librosa) (1.16.0)\n",
            "Requirement already satisfied: packaging>=20.0 in /home/gautam/.local/lib/python3.8/site-packages (from pooch>=1.0->librosa) (24.0)\n",
            "Requirement already satisfied: platformdirs>=2.5.0 in /home/gautam/.local/lib/python3.8/site-packages (from pooch>=1.0->librosa) (4.2.0)\n",
            "Requirement already satisfied: requests>=2.19.0 in /home/gautam/.local/lib/python3.8/site-packages (from pooch>=1.0->librosa) (2.31.0)\n",
            "Requirement already satisfied: threadpoolctl>=2.0.0 in /home/gautam/.local/lib/python3.8/site-packages (from scikit-learn>=0.20.0->librosa) (3.3.0)\n",
            "Requirement already satisfied: llvmlite<0.42,>=0.41.0dev0 in /home/gautam/.local/lib/python3.8/site-packages (from numba>=0.51.0->librosa) (0.41.1)\n",
            "Requirement already satisfied: importlib-metadata; python_version < \"3.9\" in /home/gautam/.local/lib/python3.8/site-packages (from numba>=0.51.0->librosa) (7.0.2)\n",
            "Requirement already satisfied: pycparser in /home/gautam/.local/lib/python3.8/site-packages (from cffi>=1.0->soundfile>=0.12.1->librosa) (2.21)\n",
            "Requirement already satisfied: idna<4,>=2.5 in /usr/lib/python3/dist-packages (from requests>=2.19.0->pooch>=1.0->librosa) (2.8)\n",
            "Requirement already satisfied: urllib3<3,>=1.21.1 in /home/gautam/.local/lib/python3.8/site-packages (from requests>=2.19.0->pooch>=1.0->librosa) (2.2.1)\n",
            "Requirement already satisfied: charset-normalizer<4,>=2 in /home/gautam/.local/lib/python3.8/site-packages (from requests>=2.19.0->pooch>=1.0->librosa) (3.3.2)\n",
            "Requirement already satisfied: certifi>=2017.4.17 in /home/gautam/.local/lib/python3.8/site-packages (from requests>=2.19.0->pooch>=1.0->librosa) (2024.2.2)\n",
            "Requirement already satisfied: zipp>=0.5 in /home/gautam/.local/lib/python3.8/site-packages (from importlib-metadata; python_version < \"3.9\"->numba>=0.51.0->librosa) (3.18.1)\n"
          ]
        }
      ],
      "source": [
        "!pip install librosa"
      ]
    },
    {
      "cell_type": "code",
      "execution_count": 9,
      "metadata": {
        "id": "fiZUOpqwnkn5",
        "outputId": "d4086edd-9e72-4b51-d3ed-98f0a9fe2952"
      },
      "outputs": [
        {
          "data": {
            "text/plain": [
              "{'path': '/home/gautam/.cache/huggingface/datasets/downloads/extracted/bfc97b45d42725c243919c1158633a8ed9906190a06aa429f14b358f33833c2f/en-US~JOINT_ACCOUNT/602baf10963e11ccd901ce24.wav',\n",
              " 'audio': {'path': '/home/gautam/.cache/huggingface/datasets/downloads/extracted/bfc97b45d42725c243919c1158633a8ed9906190a06aa429f14b358f33833c2f/en-US~JOINT_ACCOUNT/602baf10963e11ccd901ce24.wav',\n",
              "  'array': array([0.        , 0.        , 0.        , ..., 0.00195312, 0.00244141,\n",
              "         0.00268555]),\n",
              "  'sampling_rate': 8000},\n",
              " 'transcription': 'how would I set up a joint account for myself to my partner'}"
            ]
          },
          "execution_count": 9,
          "metadata": {},
          "output_type": "execute_result"
        }
      ],
      "source": [
        "minds[\"train\"][0]"
      ]
    },
    {
      "cell_type": "markdown",
      "metadata": {
        "id": "UbZ1ksWAnkn5"
      },
      "source": [
        "There are two fields:\n",
        "\n",
        "- `audio`: a 1-dimensional `array` of the speech signal that must be called to load and resample the audio file.\n",
        "- `transcription`: the target text."
      ]
    },
    {
      "cell_type": "markdown",
      "metadata": {
        "id": "7ZzxkAsdnkn5"
      },
      "source": [
        "## Preprocess"
      ]
    },
    {
      "cell_type": "markdown",
      "metadata": {
        "id": "0WDMGkttnkn5"
      },
      "source": [
        "The next step is to load a Wav2Vec2 processor to process the audio signal:"
      ]
    },
    {
      "cell_type": "code",
      "execution_count": 10,
      "metadata": {
        "id": "SgBKY9o0nkn5"
      },
      "outputs": [
        {
          "name": "stderr",
          "output_type": "stream",
          "text": [
            "/home/gautam/.local/lib/python3.8/site-packages/transformers/configuration_utils.py:365: UserWarning: Passing `gradient_checkpointing` to a config initialization is deprecated and will be removed in v5 Transformers. Using `model.gradient_checkpointing_enable()` instead, or if you are using the `Trainer` API, pass `gradient_checkpointing=True` in your `TrainingArguments`.\n",
            "  warnings.warn(\n"
          ]
        }
      ],
      "source": [
        "from transformers import AutoProcessor\n",
        "\n",
        "processor = AutoProcessor.from_pretrained(\"facebook/wav2vec2-base\")"
      ]
    },
    {
      "cell_type": "markdown",
      "metadata": {
        "id": "O2vZippinkn5"
      },
      "source": [
        "The MInDS-14 dataset has a sampling rate of 8000kHz (you can find this information in its [dataset card](https://huggingface.co/datasets/PolyAI/minds14)), which means you'll need to resample the dataset to 16000kHz to use the pretrained Wav2Vec2 model:"
      ]
    },
    {
      "cell_type": "code",
      "execution_count": 11,
      "metadata": {
        "id": "F-9wF1w4nkn5",
        "outputId": "c128fc58-d742-469a-9db9-1b7bd3f9518a"
      },
      "outputs": [
        {
          "data": {
            "text/plain": [
              "{'path': '/home/gautam/.cache/huggingface/datasets/downloads/extracted/bfc97b45d42725c243919c1158633a8ed9906190a06aa429f14b358f33833c2f/en-US~JOINT_ACCOUNT/602baf10963e11ccd901ce24.wav',\n",
              " 'audio': {'path': '/home/gautam/.cache/huggingface/datasets/downloads/extracted/bfc97b45d42725c243919c1158633a8ed9906190a06aa429f14b358f33833c2f/en-US~JOINT_ACCOUNT/602baf10963e11ccd901ce24.wav',\n",
              "  'array': array([ 6.65622065e-06, -3.49234324e-06, -8.02491559e-06, ...,\n",
              "          3.04253050e-03,  2.62817857e-03,  1.30334648e-03]),\n",
              "  'sampling_rate': 16000},\n",
              " 'transcription': 'how would I set up a joint account for myself to my partner'}"
            ]
          },
          "execution_count": 11,
          "metadata": {},
          "output_type": "execute_result"
        }
      ],
      "source": [
        "minds = minds.cast_column(\"audio\", Audio(sampling_rate=16_000))\n",
        "minds[\"train\"][0]"
      ]
    },
    {
      "cell_type": "markdown",
      "metadata": {
        "id": "6UY6iWMYnkn5"
      },
      "source": [
        "As you can see in the `transcription` above, the text contains a mix of upper and lowercase characters. The Wav2Vec2 tokenizer is only trained on uppercase characters so you'll need to make sure the text matches the tokenizer's vocabulary:"
      ]
    },
    {
      "cell_type": "code",
      "execution_count": 12,
      "metadata": {
        "id": "cI0ywOACnkn6"
      },
      "outputs": [
        {
          "name": "stderr",
          "output_type": "stream",
          "text": [
            "Map: 100%|██████████| 80/80 [00:00<00:00, 5382.23 examples/s]\n",
            "Map: 100%|██████████| 20/20 [00:00<00:00, 2535.55 examples/s]\n"
          ]
        }
      ],
      "source": [
        "def uppercase(example):\n",
        "    return {\"transcription\": example[\"transcription\"].upper()}\n",
        "\n",
        "\n",
        "minds = minds.map(uppercase)"
      ]
    },
    {
      "cell_type": "markdown",
      "metadata": {
        "id": "tXTleGiDnkn6"
      },
      "source": [
        "Now create a preprocessing function that:\n",
        "\n",
        "1. Calls the `audio` column to load and resample the audio file.\n",
        "2. Extracts the `input_values` from the audio file and tokenize the `transcription` column with the processor."
      ]
    },
    {
      "cell_type": "code",
      "execution_count": 13,
      "metadata": {
        "id": "Mkhe8uG0nkn6"
      },
      "outputs": [],
      "source": [
        "def prepare_dataset(batch):\n",
        "    audio = batch[\"audio\"]\n",
        "    batch = processor(audio[\"array\"], sampling_rate=audio[\"sampling_rate\"], text=batch[\"transcription\"])\n",
        "    batch[\"input_length\"] = len(batch[\"input_values\"][0])\n",
        "    return batch"
      ]
    },
    {
      "cell_type": "markdown",
      "metadata": {
        "id": "VaR4nEsJnkn6"
      },
      "source": [
        "To apply the preprocessing function over the entire dataset, use 🤗 Datasets [map](https://huggingface.co/docs/datasets/main/en/package_reference/main_classes#datasets.Dataset.map) function. You can speed up `map` by increasing the number of processes with the `num_proc` parameter. Remove the columns you don't need with the [remove_columns](https://huggingface.co/docs/datasets/main/en/package_reference/main_classes#datasets.Dataset.remove_columns) method:"
      ]
    },
    {
      "cell_type": "code",
      "execution_count": 14,
      "metadata": {
        "id": "H80tecHgnkn6"
      },
      "outputs": [
        {
          "name": "stderr",
          "output_type": "stream",
          "text": [
            "Map (num_proc=4):   0%|          | 0/80 [00:00<?, ? examples/s]"
          ]
        },
        {
          "name": "stderr",
          "output_type": "stream",
          "text": [
            "Map (num_proc=4): 100%|██████████| 80/80 [00:00<00:00, 169.19 examples/s]\n",
            "Map (num_proc=4): 100%|██████████| 20/20 [00:00<00:00, 105.39 examples/s]\n"
          ]
        }
      ],
      "source": [
        "encoded_minds = minds.map(prepare_dataset, remove_columns=minds.column_names[\"train\"], num_proc=4)"
      ]
    },
    {
      "cell_type": "markdown",
      "metadata": {
        "id": "Zh70s0Hbnkn6"
      },
      "source": [
        "🤗 Transformers doesn't have a data collator for ASR, so you'll need to adapt the [DataCollatorWithPadding](https://huggingface.co/docs/transformers/main/en/main_classes/data_collator#transformers.DataCollatorWithPadding) to create a batch of examples. It'll also dynamically pad your text and labels to the length of the longest element in its batch (instead of the entire dataset) so they are a uniform length. While it is possible to pad your text in the `tokenizer` function by setting `padding=True`, dynamic padding is more efficient.\n",
        "\n",
        "Unlike other data collators, this specific data collator needs to apply a different padding method to `input_values` and `labels`:"
      ]
    },
    {
      "cell_type": "code",
      "execution_count": 15,
      "metadata": {
        "id": "ViIiFRE0nkn6"
      },
      "outputs": [],
      "source": [
        "import torch\n",
        "\n",
        "from dataclasses import dataclass, field\n",
        "from typing import Any, Dict, List, Optional, Union\n",
        "\n",
        "\n",
        "@dataclass\n",
        "class DataCollatorCTCWithPadding:\n",
        "    processor: AutoProcessor\n",
        "    padding: Union[bool, str] = \"longest\"\n",
        "\n",
        "    def __call__(self, features: List[Dict[str, Union[List[int], torch.Tensor]]]) -> Dict[str, torch.Tensor]:\n",
        "        # split inputs and labels since they have to be of different lengths and need\n",
        "        # different padding methods\n",
        "        input_features = [{\"input_values\": feature[\"input_values\"][0]} for feature in features]\n",
        "        label_features = [{\"input_ids\": feature[\"labels\"]} for feature in features]\n",
        "\n",
        "        batch = self.processor.pad(input_features, padding=self.padding, return_tensors=\"pt\")\n",
        "\n",
        "        labels_batch = self.processor.pad(labels=label_features, padding=self.padding, return_tensors=\"pt\")\n",
        "\n",
        "        # replace padding with -100 to ignore loss correctly\n",
        "        labels = labels_batch[\"input_ids\"].masked_fill(labels_batch.attention_mask.ne(1), -100)\n",
        "\n",
        "        batch[\"labels\"] = labels\n",
        "\n",
        "        return batch"
      ]
    },
    {
      "cell_type": "markdown",
      "metadata": {
        "id": "ruL83oE6nkn6"
      },
      "source": [
        "Now instantiate your `DataCollatorForCTCWithPadding`:"
      ]
    },
    {
      "cell_type": "code",
      "execution_count": 16,
      "metadata": {
        "id": "bAIXVbnFnkn6"
      },
      "outputs": [],
      "source": [
        "data_collator = DataCollatorCTCWithPadding(processor=processor, padding=\"longest\")"
      ]
    },
    {
      "cell_type": "markdown",
      "metadata": {
        "id": "uJHFrXbCnkn7"
      },
      "source": [
        "## Evaluate"
      ]
    },
    {
      "cell_type": "markdown",
      "metadata": {
        "id": "o5UXdIR7nkn7"
      },
      "source": [
        "Including a metric during training is often helpful for evaluating your model's performance. You can quickly load a evaluation method with the 🤗 [Evaluate](https://huggingface.co/docs/evaluate/index) library. For this task, load the [word error rate](https://huggingface.co/spaces/evaluate-metric/wer) (WER) metric (see the 🤗 Evaluate [quick tour](https://huggingface.co/docs/evaluate/a_quick_tour) to learn more about how to load and compute a metric):"
      ]
    },
    {
      "cell_type": "code",
      "execution_count": 17,
      "metadata": {
        "id": "2DpXUKY6nkn7"
      },
      "outputs": [],
      "source": [
        "import evaluate\n",
        "\n",
        "\n",
        "wer = evaluate.load(\"wer\")"
      ]
    },
    {
      "cell_type": "markdown",
      "metadata": {
        "id": "oiPOw8tcnkn7"
      },
      "source": [
        "Then create a function that passes your predictions and labels to [compute](https://huggingface.co/docs/evaluate/main/en/package_reference/main_classes#evaluate.EvaluationModule.compute) to calculate the WER:"
      ]
    },
    {
      "cell_type": "code",
      "execution_count": 18,
      "metadata": {
        "id": "-Bs9NOSTnkn7"
      },
      "outputs": [],
      "source": [
        "import numpy as np\n",
        "\n",
        "\n",
        "def compute_metrics(pred):\n",
        "    \n",
        "    pred_logits = pred.predictions\n",
        "    pred_ids = np.argmax(pred_logits, axis=-1)\n",
        "\n",
        "    pred.label_ids[pred.label_ids == -100] = processor.tokenizer.pad_token_id\n",
        "\n",
        "    pred_str = processor.batch_decode(pred_ids)\n",
        "    label_str = processor.batch_decode(pred.label_ids, group_tokens=False)\n",
        "\n",
        "    wer = wer.compute(predictions=pred_str, references=label_str)\n",
        "\n",
        "    return {\"wer\": wer}"
      ]
    },
    {
      "cell_type": "markdown",
      "metadata": {
        "id": "xYBxuCTYnkn7"
      },
      "source": [
        "Your `compute_metrics` function is ready to go now, and you'll return to it when you setup your training."
      ]
    },
    {
      "cell_type": "markdown",
      "metadata": {
        "id": "KI-8-zRNnkn7"
      },
      "source": [
        "## Train"
      ]
    },
    {
      "cell_type": "markdown",
      "metadata": {
        "id": "jJWqwAdSnkoA"
      },
      "source": [
        "<Tip>\n",
        "\n",
        "If you aren't familiar with finetuning a model with the [Trainer](https://huggingface.co/docs/transformers/main/en/main_classes/trainer#transformers.Trainer), take a look at the basic tutorial [here](https://huggingface.co/docs/transformers/main/en/tasks/../training#train-with-pytorch-trainer)!\n",
        "\n",
        "</Tip>\n",
        "\n",
        "You're ready to start training your model now! Load Wav2Vec2 with [AutoModelForCTC](https://huggingface.co/docs/transformers/main/en/model_doc/auto#transformers.AutoModelForCTC). Specify the reduction to apply with the `ctc_loss_reduction` parameter. It is often better to use the average instead of the default summation:"
      ]
    },
    {
      "cell_type": "code",
      "execution_count": 19,
      "metadata": {
        "id": "_Z1sGce3nkoA"
      },
      "outputs": [
        {
          "name": "stderr",
          "output_type": "stream",
          "text": [
            "/home/gautam/.local/lib/python3.8/site-packages/transformers/configuration_utils.py:365: UserWarning: Passing `gradient_checkpointing` to a config initialization is deprecated and will be removed in v5 Transformers. Using `model.gradient_checkpointing_enable()` instead, or if you are using the `Trainer` API, pass `gradient_checkpointing=True` in your `TrainingArguments`.\n",
            "  warnings.warn(\n",
            "Some weights of Wav2Vec2ForCTC were not initialized from the model checkpoint at facebook/wav2vec2-base and are newly initialized: ['lm_head.bias', 'lm_head.weight', 'wav2vec2.encoder.pos_conv_embed.conv.parametrizations.weight.original0', 'wav2vec2.encoder.pos_conv_embed.conv.parametrizations.weight.original1']\n",
            "You should probably TRAIN this model on a down-stream task to be able to use it for predictions and inference.\n"
          ]
        }
      ],
      "source": [
        "from transformers import AutoModelForCTC, TrainingArguments, Trainer\n",
        "\n",
        "model = AutoModelForCTC.from_pretrained(\n",
        "    \"facebook/wav2vec2-base\",\n",
        "    ctc_loss_reduction=\"mean\",\n",
        "    pad_token_id=processor.tokenizer.pad_token_id,\n",
        ")"
      ]
    },
    {
      "cell_type": "markdown",
      "metadata": {
        "id": "ustbFFIankoA"
      },
      "source": [
        "At this point, only three steps remain:\n",
        "\n",
        "1. Define your training hyperparameters in [TrainingArguments](https://huggingface.co/docs/transformers/main/en/main_classes/trainer#transformers.TrainingArguments). The only required parameter is `output_dir` which specifies where to save your model. You'll push this model to the Hub by setting `push_to_hub=True` (you need to be signed in to Hugging Face to upload your model). At the end of each epoch, the [Trainer](https://huggingface.co/docs/transformers/main/en/main_classes/trainer#transformers.Trainer) will evaluate the WER and save the training checkpoint.\n",
        "2. Pass the training arguments to [Trainer](https://huggingface.co/docs/transformers/main/en/main_classes/trainer#transformers.Trainer) along with the model, dataset, tokenizer, data collator, and `compute_metrics` function.\n",
        "3. Call [train()](https://huggingface.co/docs/transformers/main/en/main_classes/trainer#transformers.Trainer.train) to finetune your model."
      ]
    },
    {
      "cell_type": "code",
      "execution_count": 27,
      "metadata": {},
      "outputs": [
        {
          "name": "stdout",
          "output_type": "stream",
          "text": [
            "Collecting accelerate\n",
            "  Downloading accelerate-0.28.0-py3-none-any.whl (290 kB)\n",
            "\u001b[K     |████████████████████████████████| 290 kB 4.0 MB/s eta 0:00:01\n",
            "\u001b[?25hRequirement already satisfied, skipping upgrade: packaging>=20.0 in /home/gautam/.local/lib/python3.8/site-packages (from accelerate) (24.0)\n",
            "Requirement already satisfied, skipping upgrade: safetensors>=0.3.1 in /home/gautam/.local/lib/python3.8/site-packages (from accelerate) (0.4.2)\n",
            "Requirement already satisfied, skipping upgrade: psutil in /home/gautam/.local/lib/python3.8/site-packages (from accelerate) (5.9.8)\n",
            "Requirement already satisfied, skipping upgrade: huggingface-hub in /home/gautam/.local/lib/python3.8/site-packages (from accelerate) (0.21.4)\n",
            "Requirement already satisfied, skipping upgrade: numpy>=1.17 in /home/gautam/.local/lib/python3.8/site-packages (from accelerate) (1.24.4)\n",
            "Requirement already satisfied, skipping upgrade: pyyaml in /usr/lib/python3/dist-packages (from accelerate) (5.3.1)\n",
            "Requirement already satisfied, skipping upgrade: torch>=1.10.0 in /home/gautam/.local/lib/python3.8/site-packages (from accelerate) (2.2.1)\n",
            "Requirement already satisfied, skipping upgrade: fsspec>=2023.5.0 in /home/gautam/.local/lib/python3.8/site-packages (from huggingface-hub->accelerate) (2024.2.0)\n",
            "Requirement already satisfied, skipping upgrade: typing-extensions>=3.7.4.3 in /home/gautam/.local/lib/python3.8/site-packages (from huggingface-hub->accelerate) (4.10.0)\n",
            "Requirement already satisfied, skipping upgrade: filelock in /home/gautam/.local/lib/python3.8/site-packages (from huggingface-hub->accelerate) (3.13.1)\n",
            "Requirement already satisfied, skipping upgrade: requests in /home/gautam/.local/lib/python3.8/site-packages (from huggingface-hub->accelerate) (2.31.0)\n",
            "Requirement already satisfied, skipping upgrade: tqdm>=4.42.1 in /home/gautam/.local/lib/python3.8/site-packages (from huggingface-hub->accelerate) (4.66.2)\n",
            "Requirement already satisfied, skipping upgrade: jinja2 in /home/gautam/.local/lib/python3.8/site-packages (from torch>=1.10.0->accelerate) (3.1.3)\n",
            "Requirement already satisfied, skipping upgrade: nvidia-cuda-runtime-cu12==12.1.105; platform_system == \"Linux\" and platform_machine == \"x86_64\" in /home/gautam/.local/lib/python3.8/site-packages (from torch>=1.10.0->accelerate) (12.1.105)\n",
            "Requirement already satisfied, skipping upgrade: nvidia-cublas-cu12==12.1.3.1; platform_system == \"Linux\" and platform_machine == \"x86_64\" in /home/gautam/.local/lib/python3.8/site-packages (from torch>=1.10.0->accelerate) (12.1.3.1)\n",
            "Requirement already satisfied, skipping upgrade: networkx in /home/gautam/.local/lib/python3.8/site-packages (from torch>=1.10.0->accelerate) (3.1)\n",
            "Requirement already satisfied, skipping upgrade: nvidia-cuda-cupti-cu12==12.1.105; platform_system == \"Linux\" and platform_machine == \"x86_64\" in /home/gautam/.local/lib/python3.8/site-packages (from torch>=1.10.0->accelerate) (12.1.105)\n",
            "Requirement already satisfied, skipping upgrade: nvidia-curand-cu12==10.3.2.106; platform_system == \"Linux\" and platform_machine == \"x86_64\" in /home/gautam/.local/lib/python3.8/site-packages (from torch>=1.10.0->accelerate) (10.3.2.106)\n",
            "Requirement already satisfied, skipping upgrade: nvidia-cuda-nvrtc-cu12==12.1.105; platform_system == \"Linux\" and platform_machine == \"x86_64\" in /home/gautam/.local/lib/python3.8/site-packages (from torch>=1.10.0->accelerate) (12.1.105)\n",
            "Requirement already satisfied, skipping upgrade: nvidia-nccl-cu12==2.19.3; platform_system == \"Linux\" and platform_machine == \"x86_64\" in /home/gautam/.local/lib/python3.8/site-packages (from torch>=1.10.0->accelerate) (2.19.3)\n",
            "Requirement already satisfied, skipping upgrade: nvidia-nvtx-cu12==12.1.105; platform_system == \"Linux\" and platform_machine == \"x86_64\" in /home/gautam/.local/lib/python3.8/site-packages (from torch>=1.10.0->accelerate) (12.1.105)\n",
            "Requirement already satisfied, skipping upgrade: triton==2.2.0; platform_system == \"Linux\" and platform_machine == \"x86_64\" and python_version < \"3.12\" in /home/gautam/.local/lib/python3.8/site-packages (from torch>=1.10.0->accelerate) (2.2.0)\n",
            "Requirement already satisfied, skipping upgrade: nvidia-cufft-cu12==11.0.2.54; platform_system == \"Linux\" and platform_machine == \"x86_64\" in /home/gautam/.local/lib/python3.8/site-packages (from torch>=1.10.0->accelerate) (11.0.2.54)\n",
            "Requirement already satisfied, skipping upgrade: nvidia-cusolver-cu12==11.4.5.107; platform_system == \"Linux\" and platform_machine == \"x86_64\" in /home/gautam/.local/lib/python3.8/site-packages (from torch>=1.10.0->accelerate) (11.4.5.107)\n",
            "Requirement already satisfied, skipping upgrade: sympy in /home/gautam/.local/lib/python3.8/site-packages (from torch>=1.10.0->accelerate) (1.12)\n",
            "Requirement already satisfied, skipping upgrade: nvidia-cusparse-cu12==12.1.0.106; platform_system == \"Linux\" and platform_machine == \"x86_64\" in /home/gautam/.local/lib/python3.8/site-packages (from torch>=1.10.0->accelerate) (12.1.0.106)\n",
            "Requirement already satisfied, skipping upgrade: nvidia-cudnn-cu12==8.9.2.26; platform_system == \"Linux\" and platform_machine == \"x86_64\" in /home/gautam/.local/lib/python3.8/site-packages (from torch>=1.10.0->accelerate) (8.9.2.26)\n",
            "Requirement already satisfied, skipping upgrade: idna<4,>=2.5 in /usr/lib/python3/dist-packages (from requests->huggingface-hub->accelerate) (2.8)\n",
            "Requirement already satisfied, skipping upgrade: charset-normalizer<4,>=2 in /home/gautam/.local/lib/python3.8/site-packages (from requests->huggingface-hub->accelerate) (3.3.2)\n",
            "Requirement already satisfied, skipping upgrade: certifi>=2017.4.17 in /home/gautam/.local/lib/python3.8/site-packages (from requests->huggingface-hub->accelerate) (2024.2.2)\n",
            "Requirement already satisfied, skipping upgrade: urllib3<3,>=1.21.1 in /home/gautam/.local/lib/python3.8/site-packages (from requests->huggingface-hub->accelerate) (2.2.1)\n",
            "Requirement already satisfied, skipping upgrade: MarkupSafe>=2.0 in /home/gautam/.local/lib/python3.8/site-packages (from jinja2->torch>=1.10.0->accelerate) (2.1.5)\n",
            "Requirement already satisfied, skipping upgrade: nvidia-nvjitlink-cu12 in /home/gautam/.local/lib/python3.8/site-packages (from nvidia-cusolver-cu12==11.4.5.107; platform_system == \"Linux\" and platform_machine == \"x86_64\"->torch>=1.10.0->accelerate) (12.4.99)\n",
            "Requirement already satisfied, skipping upgrade: mpmath>=0.19 in /home/gautam/.local/lib/python3.8/site-packages (from sympy->torch>=1.10.0->accelerate) (1.3.0)\n",
            "Installing collected packages: accelerate\n",
            "Successfully installed accelerate-0.28.0\n"
          ]
        }
      ],
      "source": [
        "!pip install accelerate -U"
      ]
    },
    {
      "cell_type": "code",
      "execution_count": 20,
      "metadata": {
        "id": "Wm7FhQ4enkoB"
      },
      "outputs": [
        {
          "name": "stderr",
          "output_type": "stream",
          "text": [
            "/home/gautam/.local/lib/python3.8/site-packages/accelerate/accelerator.py:432: FutureWarning: Passing the following arguments to `Accelerator` is deprecated and will be removed in version 1.0 of Accelerate: dict_keys(['dispatch_batches', 'split_batches', 'even_batches', 'use_seedable_sampler']). Please pass an `accelerate.DataLoaderConfiguration` instead: \n",
            "dataloader_config = DataLoaderConfiguration(dispatch_batches=None, split_batches=False, even_batches=True, use_seedable_sampler=True)\n",
            "  warnings.warn(\n",
            " 57%|█████▋    | 17/30 [14:29<12:10, 56.22s/it]"
          ]
        }
      ],
      "source": [
        "training_args = TrainingArguments(\n",
        "    output_dir=\"my_awesome_asr_mind_model\",\n",
        "    per_device_train_batch_size=8,\n",
        "    gradient_accumulation_steps=2,\n",
        "    learning_rate=1e-5,\n",
        "    warmup_steps=500,\n",
        "    max_steps=2000,\n",
        "    gradient_checkpointing=True,\n",
        "    # fp16=True,\n",
        "    group_by_length=True,\n",
        "    evaluation_strategy=\"steps\",\n",
        "    per_device_eval_batch_size=8,\n",
        "    save_steps=1000,\n",
        "    eval_steps=1000,\n",
        "    logging_steps=25,\n",
        "    load_best_model_at_end=True,\n",
        "    metric_for_best_model=\"wer\",\n",
        "    greater_is_better=False,\n",
        "    push_to_hub=True,\n",
        ")\n",
        "\n",
        "trainer = Trainer(\n",
        "    model=model,\n",
        "    # args=training_args,\n",
        "    train_dataset=encoded_minds[\"train\"],\n",
        "    eval_dataset=encoded_minds[\"test\"],\n",
        "    tokenizer=processor,\n",
        "    data_collator=data_collator,\n",
        "    compute_metrics=compute_metrics,\n",
        ")\n",
        "\n",
        "trainer.train()"
      ]
    },
    {
      "cell_type": "markdown",
      "metadata": {
        "id": "_HPM_NJ6nkoB"
      },
      "source": [
        "Once training is completed, share your model to the Hub with the [push_to_hub()](https://huggingface.co/docs/transformers/main/en/main_classes/trainer#transformers.Trainer.push_to_hub) method so everyone can use your model:"
      ]
    },
    {
      "cell_type": "code",
      "execution_count": null,
      "metadata": {
        "id": "GRqIc77unkoB"
      },
      "outputs": [],
      "source": [
        "trainer.push_to_hub()"
      ]
    },
    {
      "cell_type": "markdown",
      "metadata": {
        "id": "k2HgxJAVnkoB"
      },
      "source": [
        "<Tip>\n",
        "\n",
        "For a more in-depth example of how to finetune a model for automatic speech recognition, take a look at this blog [post](https://huggingface.co/blog/fine-tune-wav2vec2-english) for English ASR and this [post](https://huggingface.co/blog/fine-tune-xlsr-wav2vec2) for multilingual ASR.\n",
        "\n",
        "</Tip>"
      ]
    },
    {
      "cell_type": "markdown",
      "metadata": {
        "id": "SLPwuLiUnkoB"
      },
      "source": [
        "## Inference"
      ]
    },
    {
      "cell_type": "markdown",
      "metadata": {
        "id": "ylCmSzOfnkoB"
      },
      "source": [
        "Great, now that you've finetuned a model, you can use it for inference!\n",
        "\n",
        "Load an audio file you'd like to run inference on. Remember to resample the sampling rate of the audio file to match the sampling rate of the model if you need to!"
      ]
    },
    {
      "cell_type": "code",
      "execution_count": null,
      "metadata": {
        "id": "AXXZaPdTnkoB"
      },
      "outputs": [],
      "source": [
        "from datasets import load_dataset, Audio\n",
        "\n",
        "dataset = load_dataset(\"PolyAI/minds14\", \"en-US\", split=\"train\")\n",
        "dataset = dataset.cast_column(\"audio\", Audio(sampling_rate=16000))\n",
        "sampling_rate = dataset.features[\"audio\"].sampling_rate\n",
        "audio_file = dataset[0][\"audio\"][\"path\"]"
      ]
    },
    {
      "cell_type": "markdown",
      "metadata": {
        "id": "d5uFLJcQnkoB"
      },
      "source": [
        "The simplest way to try out your finetuned model for inference is to use it in a [pipeline()](https://huggingface.co/docs/transformers/main/en/main_classes/pipelines#transformers.pipeline). Instantiate a `pipeline` for automatic speech recognition with your model, and pass your audio file to it:"
      ]
    },
    {
      "cell_type": "code",
      "execution_count": null,
      "metadata": {
        "id": "amgiICXCnkoB",
        "outputId": "a68dbf17-dd9a-48ff-e316-d0516c2c7444"
      },
      "outputs": [
        {
          "data": {
            "text/plain": [
              "{'text': 'I WOUD LIKE O SET UP JOINT ACOUNT WTH Y PARTNER'}"
            ]
          },
          "execution_count": null,
          "metadata": {},
          "output_type": "execute_result"
        }
      ],
      "source": [
        "from transformers import pipeline\n",
        "\n",
        "transcriber = pipeline(\"automatic-speech-recognition\", model=\"stevhliu/my_awesome_asr_minds_model\")\n",
        "transcriber(audio_file)"
      ]
    },
    {
      "cell_type": "markdown",
      "metadata": {
        "id": "NDOeGAcUnkoC"
      },
      "source": [
        "<Tip>\n",
        "\n",
        "The transcription is decent, but it could be better! Try finetuning your model on more examples to get even better results!\n",
        "\n",
        "</Tip>\n",
        "\n",
        "You can also manually replicate the results of the `pipeline` if you'd like:\n",
        "\n",
        "Load a processor to preprocess the audio file and transcription and return the `input` as PyTorch tensors:"
      ]
    },
    {
      "cell_type": "code",
      "execution_count": null,
      "metadata": {
        "id": "eHR5_J-RnkoC"
      },
      "outputs": [],
      "source": [
        "from transformers import AutoProcessor\n",
        "\n",
        "processor = AutoProcessor.from_pretrained(\"stevhliu/my_awesome_asr_mind_model\")\n",
        "inputs = processor(dataset[0][\"audio\"][\"array\"], sampling_rate=sampling_rate, return_tensors=\"pt\")"
      ]
    },
    {
      "cell_type": "markdown",
      "metadata": {
        "id": "L6pNy1chnkoC"
      },
      "source": [
        "Pass your inputs to the model and return the logits:"
      ]
    },
    {
      "cell_type": "code",
      "execution_count": null,
      "metadata": {
        "id": "ug76h0kankoD"
      },
      "outputs": [],
      "source": [
        "from transformers import AutoModelForCTC\n",
        "\n",
        "model = AutoModelForCTC.from_pretrained(\"stevhliu/my_awesome_asr_mind_model\")\n",
        "with torch.no_grad():\n",
        "    logits = model(**inputs).logits"
      ]
    },
    {
      "cell_type": "markdown",
      "metadata": {
        "id": "Rmzv8hK6nkoD"
      },
      "source": [
        "Get the predicted `input_ids` with the highest probability, and use the processor to decode the predicted `input_ids` back into text:"
      ]
    },
    {
      "cell_type": "code",
      "execution_count": null,
      "metadata": {
        "id": "Jz2OMW8VnkoD",
        "outputId": "78215f25-ba37-49a7-d9d1-931273d1dbb4"
      },
      "outputs": [
        {
          "data": {
            "text/plain": [
              "['I WOUL LIKE O SET UP JOINT ACOUNT WTH Y PARTNER']"
            ]
          },
          "execution_count": null,
          "metadata": {},
          "output_type": "execute_result"
        }
      ],
      "source": [
        "import torch\n",
        "\n",
        "predicted_ids = torch.argmax(logits, dim=-1)\n",
        "transcription = processor.batch_decode(predicted_ids)\n",
        "transcription"
      ]
    }
  ],
  "metadata": {
    "colab": {
      "provenance": []
    },
    "kernelspec": {
      "display_name": "Python 3",
      "language": "python",
      "name": "python3"
    },
    "language_info": {
      "codemirror_mode": {
        "name": "ipython",
        "version": 3
      },
      "file_extension": ".py",
      "mimetype": "text/x-python",
      "name": "python",
      "nbconvert_exporter": "python",
      "pygments_lexer": "ipython3",
      "version": "3.8.10"
    }
  },
  "nbformat": 4,
  "nbformat_minor": 0
}

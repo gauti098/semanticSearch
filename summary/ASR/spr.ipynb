{
 "cells": [
  {
   "cell_type": "code",
   "execution_count": 1,
   "metadata": {},
   "outputs": [
    {
     "name": "stdout",
     "output_type": "stream",
     "text": [
      "Collecting pip\n",
      "  Using cached pip-24.0-py3-none-any.whl (2.1 MB)\n",
      "Installing collected packages: pip\n",
      "Successfully installed pip-24.0\n",
      "Collecting git+https://github.com/huggingface/transformers.git\n",
      "  Cloning https://github.com/huggingface/transformers.git to /tmp/pip-req-build-u1cjq5zj\n",
      "  Running command git clone -q https://github.com/huggingface/transformers.git /tmp/pip-req-build-u1cjq5zj\n",
      "  Installing build dependencies ... \u001b[?25ldone\n",
      "\u001b[?25h  Getting requirements to build wheel ... \u001b[?25ldone\n",
      "\u001b[?25h    Preparing wheel metadata ... \u001b[?25ldone\n",
      "\u001b[?25hRequirement already up-to-date: accelerate in /home/gautam/.local/lib/python3.8/site-packages (0.28.0)\n",
      "Requirement already up-to-date: datasets[audio] in /home/gautam/.local/lib/python3.8/site-packages (2.18.0)\n",
      "Requirement already satisfied, skipping upgrade: filelock in /home/gautam/.local/lib/python3.8/site-packages (from transformers==4.40.0.dev0) (3.13.1)\n",
      "Requirement already satisfied, skipping upgrade: huggingface-hub<1.0,>=0.19.3 in /home/gautam/.local/lib/python3.8/site-packages (from transformers==4.40.0.dev0) (0.21.4)\n",
      "Requirement already satisfied, skipping upgrade: tqdm>=4.27 in /home/gautam/.local/lib/python3.8/site-packages (from transformers==4.40.0.dev0) (4.66.2)\n",
      "Requirement already satisfied, skipping upgrade: regex!=2019.12.17 in /home/gautam/.local/lib/python3.8/site-packages (from transformers==4.40.0.dev0) (2023.12.25)\n",
      "Requirement already satisfied, skipping upgrade: pyyaml>=5.1 in /usr/lib/python3/dist-packages (from transformers==4.40.0.dev0) (5.3.1)\n",
      "Requirement already satisfied, skipping upgrade: packaging>=20.0 in /home/gautam/.local/lib/python3.8/site-packages (from transformers==4.40.0.dev0) (24.0)\n",
      "Requirement already satisfied, skipping upgrade: safetensors>=0.4.1 in /home/gautam/.local/lib/python3.8/site-packages (from transformers==4.40.0.dev0) (0.4.2)\n",
      "Requirement already satisfied, skipping upgrade: requests in /home/gautam/.local/lib/python3.8/site-packages (from transformers==4.40.0.dev0) (2.31.0)\n",
      "Requirement already satisfied, skipping upgrade: tokenizers<0.19,>=0.14 in /home/gautam/.local/lib/python3.8/site-packages (from transformers==4.40.0.dev0) (0.15.2)\n",
      "Requirement already satisfied, skipping upgrade: numpy>=1.17 in /home/gautam/.local/lib/python3.8/site-packages (from transformers==4.40.0.dev0) (1.24.4)\n",
      "Requirement already satisfied, skipping upgrade: torch>=1.10.0 in /home/gautam/.local/lib/python3.8/site-packages (from accelerate) (2.2.1)\n",
      "Requirement already satisfied, skipping upgrade: psutil in /home/gautam/.local/lib/python3.8/site-packages (from accelerate) (5.9.8)\n",
      "Requirement already satisfied, skipping upgrade: pyarrow-hotfix in /home/gautam/.local/lib/python3.8/site-packages (from datasets[audio]) (0.6)\n",
      "Requirement already satisfied, skipping upgrade: aiohttp in /home/gautam/.local/lib/python3.8/site-packages (from datasets[audio]) (3.9.3)\n",
      "Requirement already satisfied, skipping upgrade: fsspec[http]<=2024.2.0,>=2023.1.0 in /home/gautam/.local/lib/python3.8/site-packages (from datasets[audio]) (2024.2.0)\n",
      "Requirement already satisfied, skipping upgrade: pyarrow>=12.0.0 in /home/gautam/.local/lib/python3.8/site-packages (from datasets[audio]) (15.0.2)\n",
      "Requirement already satisfied, skipping upgrade: multiprocess in /home/gautam/.local/lib/python3.8/site-packages (from datasets[audio]) (0.70.16)\n",
      "Requirement already satisfied, skipping upgrade: dill<0.3.9,>=0.3.0 in /home/gautam/.local/lib/python3.8/site-packages (from datasets[audio]) (0.3.8)\n",
      "Requirement already satisfied, skipping upgrade: xxhash in /home/gautam/.local/lib/python3.8/site-packages (from datasets[audio]) (3.4.1)\n",
      "Requirement already satisfied, skipping upgrade: pandas in /home/gautam/.local/lib/python3.8/site-packages (from datasets[audio]) (2.0.3)\n",
      "Requirement already satisfied, skipping upgrade: soundfile>=0.12.1; extra == \"audio\" in /home/gautam/.local/lib/python3.8/site-packages (from datasets[audio]) (0.12.1)\n",
      "Requirement already satisfied, skipping upgrade: librosa; extra == \"audio\" in /home/gautam/.local/lib/python3.8/site-packages (from datasets[audio]) (0.10.1)\n",
      "Requirement already satisfied, skipping upgrade: typing-extensions>=3.7.4.3 in /home/gautam/.local/lib/python3.8/site-packages (from huggingface-hub<1.0,>=0.19.3->transformers==4.40.0.dev0) (4.10.0)\n",
      "Requirement already satisfied, skipping upgrade: idna<4,>=2.5 in /usr/lib/python3/dist-packages (from requests->transformers==4.40.0.dev0) (2.8)\n",
      "Requirement already satisfied, skipping upgrade: urllib3<3,>=1.21.1 in /home/gautam/.local/lib/python3.8/site-packages (from requests->transformers==4.40.0.dev0) (2.2.1)\n",
      "Requirement already satisfied, skipping upgrade: charset-normalizer<4,>=2 in /home/gautam/.local/lib/python3.8/site-packages (from requests->transformers==4.40.0.dev0) (3.3.2)\n",
      "Requirement already satisfied, skipping upgrade: certifi>=2017.4.17 in /home/gautam/.local/lib/python3.8/site-packages (from requests->transformers==4.40.0.dev0) (2024.2.2)\n",
      "Requirement already satisfied, skipping upgrade: nvidia-cublas-cu12==12.1.3.1; platform_system == \"Linux\" and platform_machine == \"x86_64\" in /home/gautam/.local/lib/python3.8/site-packages (from torch>=1.10.0->accelerate) (12.1.3.1)\n",
      "Requirement already satisfied, skipping upgrade: networkx in /home/gautam/.local/lib/python3.8/site-packages (from torch>=1.10.0->accelerate) (3.1)\n",
      "Requirement already satisfied, skipping upgrade: nvidia-nccl-cu12==2.19.3; platform_system == \"Linux\" and platform_machine == \"x86_64\" in /home/gautam/.local/lib/python3.8/site-packages (from torch>=1.10.0->accelerate) (2.19.3)\n",
      "Requirement already satisfied, skipping upgrade: nvidia-nvtx-cu12==12.1.105; platform_system == \"Linux\" and platform_machine == \"x86_64\" in /home/gautam/.local/lib/python3.8/site-packages (from torch>=1.10.0->accelerate) (12.1.105)\n",
      "Requirement already satisfied, skipping upgrade: triton==2.2.0; platform_system == \"Linux\" and platform_machine == \"x86_64\" and python_version < \"3.12\" in /home/gautam/.local/lib/python3.8/site-packages (from torch>=1.10.0->accelerate) (2.2.0)\n",
      "Requirement already satisfied, skipping upgrade: sympy in /home/gautam/.local/lib/python3.8/site-packages (from torch>=1.10.0->accelerate) (1.12)\n",
      "Requirement already satisfied, skipping upgrade: nvidia-cuda-cupti-cu12==12.1.105; platform_system == \"Linux\" and platform_machine == \"x86_64\" in /home/gautam/.local/lib/python3.8/site-packages (from torch>=1.10.0->accelerate) (12.1.105)\n",
      "Requirement already satisfied, skipping upgrade: nvidia-cusparse-cu12==12.1.0.106; platform_system == \"Linux\" and platform_machine == \"x86_64\" in /home/gautam/.local/lib/python3.8/site-packages (from torch>=1.10.0->accelerate) (12.1.0.106)\n",
      "Requirement already satisfied, skipping upgrade: nvidia-cufft-cu12==11.0.2.54; platform_system == \"Linux\" and platform_machine == \"x86_64\" in /home/gautam/.local/lib/python3.8/site-packages (from torch>=1.10.0->accelerate) (11.0.2.54)\n",
      "Requirement already satisfied, skipping upgrade: nvidia-cuda-nvrtc-cu12==12.1.105; platform_system == \"Linux\" and platform_machine == \"x86_64\" in /home/gautam/.local/lib/python3.8/site-packages (from torch>=1.10.0->accelerate) (12.1.105)\n",
      "Requirement already satisfied, skipping upgrade: nvidia-curand-cu12==10.3.2.106; platform_system == \"Linux\" and platform_machine == \"x86_64\" in /home/gautam/.local/lib/python3.8/site-packages (from torch>=1.10.0->accelerate) (10.3.2.106)\n",
      "Requirement already satisfied, skipping upgrade: nvidia-cusolver-cu12==11.4.5.107; platform_system == \"Linux\" and platform_machine == \"x86_64\" in /home/gautam/.local/lib/python3.8/site-packages (from torch>=1.10.0->accelerate) (11.4.5.107)\n",
      "Requirement already satisfied, skipping upgrade: nvidia-cuda-runtime-cu12==12.1.105; platform_system == \"Linux\" and platform_machine == \"x86_64\" in /home/gautam/.local/lib/python3.8/site-packages (from torch>=1.10.0->accelerate) (12.1.105)\n",
      "Requirement already satisfied, skipping upgrade: nvidia-cudnn-cu12==8.9.2.26; platform_system == \"Linux\" and platform_machine == \"x86_64\" in /home/gautam/.local/lib/python3.8/site-packages (from torch>=1.10.0->accelerate) (8.9.2.26)\n",
      "Requirement already satisfied, skipping upgrade: jinja2 in /home/gautam/.local/lib/python3.8/site-packages (from torch>=1.10.0->accelerate) (3.1.3)\n",
      "Requirement already satisfied, skipping upgrade: yarl<2.0,>=1.0 in /home/gautam/.local/lib/python3.8/site-packages (from aiohttp->datasets[audio]) (1.9.4)\n",
      "Requirement already satisfied, skipping upgrade: aiosignal>=1.1.2 in /home/gautam/.local/lib/python3.8/site-packages (from aiohttp->datasets[audio]) (1.3.1)\n",
      "Requirement already satisfied, skipping upgrade: async-timeout<5.0,>=4.0; python_version < \"3.11\" in /home/gautam/.local/lib/python3.8/site-packages (from aiohttp->datasets[audio]) (4.0.3)\n",
      "Requirement already satisfied, skipping upgrade: multidict<7.0,>=4.5 in /home/gautam/.local/lib/python3.8/site-packages (from aiohttp->datasets[audio]) (6.0.5)\n",
      "Requirement already satisfied, skipping upgrade: attrs>=17.3.0 in /usr/lib/python3/dist-packages (from aiohttp->datasets[audio]) (19.3.0)\n",
      "Requirement already satisfied, skipping upgrade: frozenlist>=1.1.1 in /home/gautam/.local/lib/python3.8/site-packages (from aiohttp->datasets[audio]) (1.4.1)\n",
      "Requirement already satisfied, skipping upgrade: pytz>=2020.1 in /home/gautam/.local/lib/python3.8/site-packages (from pandas->datasets[audio]) (2024.1)\n",
      "Requirement already satisfied, skipping upgrade: python-dateutil>=2.8.2 in /home/gautam/.local/lib/python3.8/site-packages (from pandas->datasets[audio]) (2.9.0.post0)\n",
      "Requirement already satisfied, skipping upgrade: tzdata>=2022.1 in /home/gautam/.local/lib/python3.8/site-packages (from pandas->datasets[audio]) (2024.1)\n",
      "Requirement already satisfied, skipping upgrade: cffi>=1.0 in /home/gautam/.local/lib/python3.8/site-packages (from soundfile>=0.12.1; extra == \"audio\"->datasets[audio]) (1.16.0)\n",
      "Requirement already satisfied, skipping upgrade: decorator>=4.3.0 in /home/gautam/.local/lib/python3.8/site-packages (from librosa; extra == \"audio\"->datasets[audio]) (5.1.1)\n",
      "Requirement already satisfied, skipping upgrade: numba>=0.51.0 in /home/gautam/.local/lib/python3.8/site-packages (from librosa; extra == \"audio\"->datasets[audio]) (0.58.1)\n",
      "Requirement already satisfied, skipping upgrade: pooch>=1.0 in /home/gautam/.local/lib/python3.8/site-packages (from librosa; extra == \"audio\"->datasets[audio]) (1.8.1)\n",
      "Requirement already satisfied, skipping upgrade: audioread>=2.1.9 in /home/gautam/.local/lib/python3.8/site-packages (from librosa; extra == \"audio\"->datasets[audio]) (3.0.1)\n",
      "Requirement already satisfied, skipping upgrade: lazy-loader>=0.1 in /home/gautam/.local/lib/python3.8/site-packages (from librosa; extra == \"audio\"->datasets[audio]) (0.3)\n",
      "Requirement already satisfied, skipping upgrade: scikit-learn>=0.20.0 in /home/gautam/.local/lib/python3.8/site-packages (from librosa; extra == \"audio\"->datasets[audio]) (1.3.2)\n",
      "Requirement already satisfied, skipping upgrade: msgpack>=1.0 in /home/gautam/.local/lib/python3.8/site-packages (from librosa; extra == \"audio\"->datasets[audio]) (1.0.8)\n",
      "Requirement already satisfied, skipping upgrade: scipy>=1.2.0 in /home/gautam/.local/lib/python3.8/site-packages (from librosa; extra == \"audio\"->datasets[audio]) (1.10.1)\n",
      "Requirement already satisfied, skipping upgrade: joblib>=0.14 in /home/gautam/.local/lib/python3.8/site-packages (from librosa; extra == \"audio\"->datasets[audio]) (1.3.2)\n",
      "Requirement already satisfied, skipping upgrade: soxr>=0.3.2 in /home/gautam/.local/lib/python3.8/site-packages (from librosa; extra == \"audio\"->datasets[audio]) (0.3.7)\n",
      "Requirement already satisfied, skipping upgrade: mpmath>=0.19 in /home/gautam/.local/lib/python3.8/site-packages (from sympy->torch>=1.10.0->accelerate) (1.3.0)\n",
      "Requirement already satisfied, skipping upgrade: nvidia-nvjitlink-cu12 in /home/gautam/.local/lib/python3.8/site-packages (from nvidia-cusparse-cu12==12.1.0.106; platform_system == \"Linux\" and platform_machine == \"x86_64\"->torch>=1.10.0->accelerate) (12.4.99)\n",
      "Requirement already satisfied, skipping upgrade: MarkupSafe>=2.0 in /home/gautam/.local/lib/python3.8/site-packages (from jinja2->torch>=1.10.0->accelerate) (2.1.5)\n",
      "Requirement already satisfied, skipping upgrade: six>=1.5 in /usr/lib/python3/dist-packages (from python-dateutil>=2.8.2->pandas->datasets[audio]) (1.14.0)\n",
      "Requirement already satisfied, skipping upgrade: pycparser in /home/gautam/.local/lib/python3.8/site-packages (from cffi>=1.0->soundfile>=0.12.1; extra == \"audio\"->datasets[audio]) (2.21)\n",
      "Requirement already satisfied, skipping upgrade: llvmlite<0.42,>=0.41.0dev0 in /home/gautam/.local/lib/python3.8/site-packages (from numba>=0.51.0->librosa; extra == \"audio\"->datasets[audio]) (0.41.1)\n",
      "Requirement already satisfied, skipping upgrade: importlib-metadata; python_version < \"3.9\" in /home/gautam/.local/lib/python3.8/site-packages (from numba>=0.51.0->librosa; extra == \"audio\"->datasets[audio]) (7.0.2)\n",
      "Requirement already satisfied, skipping upgrade: platformdirs>=2.5.0 in /home/gautam/.local/lib/python3.8/site-packages (from pooch>=1.0->librosa; extra == \"audio\"->datasets[audio]) (4.2.0)\n",
      "Requirement already satisfied, skipping upgrade: threadpoolctl>=2.0.0 in /home/gautam/.local/lib/python3.8/site-packages (from scikit-learn>=0.20.0->librosa; extra == \"audio\"->datasets[audio]) (3.3.0)\n",
      "Requirement already satisfied, skipping upgrade: zipp>=0.5 in /home/gautam/.local/lib/python3.8/site-packages (from importlib-metadata; python_version < \"3.9\"->numba>=0.51.0->librosa; extra == \"audio\"->datasets[audio]) (3.18.1)\n",
      "Building wheels for collected packages: transformers\n",
      "  Building wheel for transformers (PEP 517) ... \u001b[?25ldone\n",
      "\u001b[?25h  Created wheel for transformers: filename=transformers-4.40.0.dev0-py3-none-any.whl size=8796805 sha256=faf9b4026890ea667e5903b1a2a1770ff654349da3a3752986718bd6e96d0fd4\n",
      "  Stored in directory: /tmp/pip-ephem-wheel-cache-_8xqbqjv/wheels/05/0a/97/64ae47c27ba95fae2cb5838e7b4b7247a34d4a8ba5f7092de2\n",
      "Successfully built transformers\n",
      "Installing collected packages: transformers\n",
      "  Attempting uninstall: transformers\n",
      "    Found existing installation: transformers 4.38.2\n",
      "    Uninstalling transformers-4.38.2:\n",
      "      Successfully uninstalled transformers-4.38.2\n",
      "Successfully installed transformers-4.40.0.dev0\n"
     ]
    }
   ],
   "source": [
    "!pip install --upgrade pip\n",
    "!pip install --upgrade git+https://github.com/huggingface/transformers.git accelerate datasets[audio]\n"
   ]
  },
  {
   "cell_type": "code",
   "execution_count": 2,
   "metadata": {},
   "outputs": [
    {
     "name": "stderr",
     "output_type": "stream",
     "text": [
      "/home/gautam/.local/lib/python3.8/site-packages/tqdm/auto.py:21: TqdmWarning: IProgress not found. Please update jupyter and ipywidgets. See https://ipywidgets.readthedocs.io/en/stable/user_install.html\n",
      "  from .autonotebook import tqdm as notebook_tqdm\n"
     ]
    }
   ],
   "source": [
    "import torch\n",
    "from transformers import AutoModelForSpeechSeq2Seq, AutoProcessor, pipeline\n",
    "from datasets import load_dataset"
   ]
  },
  {
   "cell_type": "code",
   "execution_count": 3,
   "metadata": {},
   "outputs": [
    {
     "data": {
      "text/plain": [
       "WhisperForConditionalGeneration(\n",
       "  (model): WhisperModel(\n",
       "    (encoder): WhisperEncoder(\n",
       "      (conv1): Conv1d(128, 1280, kernel_size=(3,), stride=(1,), padding=(1,))\n",
       "      (conv2): Conv1d(1280, 1280, kernel_size=(3,), stride=(2,), padding=(1,))\n",
       "      (embed_positions): Embedding(1500, 1280)\n",
       "      (layers): ModuleList(\n",
       "        (0-31): 32 x WhisperEncoderLayer(\n",
       "          (self_attn): WhisperSdpaAttention(\n",
       "            (k_proj): Linear(in_features=1280, out_features=1280, bias=False)\n",
       "            (v_proj): Linear(in_features=1280, out_features=1280, bias=True)\n",
       "            (q_proj): Linear(in_features=1280, out_features=1280, bias=True)\n",
       "            (out_proj): Linear(in_features=1280, out_features=1280, bias=True)\n",
       "          )\n",
       "          (self_attn_layer_norm): LayerNorm((1280,), eps=1e-05, elementwise_affine=True)\n",
       "          (activation_fn): GELUActivation()\n",
       "          (fc1): Linear(in_features=1280, out_features=5120, bias=True)\n",
       "          (fc2): Linear(in_features=5120, out_features=1280, bias=True)\n",
       "          (final_layer_norm): LayerNorm((1280,), eps=1e-05, elementwise_affine=True)\n",
       "        )\n",
       "      )\n",
       "      (layer_norm): LayerNorm((1280,), eps=1e-05, elementwise_affine=True)\n",
       "    )\n",
       "    (decoder): WhisperDecoder(\n",
       "      (embed_tokens): Embedding(51866, 1280, padding_idx=50256)\n",
       "      (embed_positions): WhisperPositionalEmbedding(448, 1280)\n",
       "      (layers): ModuleList(\n",
       "        (0-31): 32 x WhisperDecoderLayer(\n",
       "          (self_attn): WhisperSdpaAttention(\n",
       "            (k_proj): Linear(in_features=1280, out_features=1280, bias=False)\n",
       "            (v_proj): Linear(in_features=1280, out_features=1280, bias=True)\n",
       "            (q_proj): Linear(in_features=1280, out_features=1280, bias=True)\n",
       "            (out_proj): Linear(in_features=1280, out_features=1280, bias=True)\n",
       "          )\n",
       "          (activation_fn): GELUActivation()\n",
       "          (self_attn_layer_norm): LayerNorm((1280,), eps=1e-05, elementwise_affine=True)\n",
       "          (encoder_attn): WhisperSdpaAttention(\n",
       "            (k_proj): Linear(in_features=1280, out_features=1280, bias=False)\n",
       "            (v_proj): Linear(in_features=1280, out_features=1280, bias=True)\n",
       "            (q_proj): Linear(in_features=1280, out_features=1280, bias=True)\n",
       "            (out_proj): Linear(in_features=1280, out_features=1280, bias=True)\n",
       "          )\n",
       "          (encoder_attn_layer_norm): LayerNorm((1280,), eps=1e-05, elementwise_affine=True)\n",
       "          (fc1): Linear(in_features=1280, out_features=5120, bias=True)\n",
       "          (fc2): Linear(in_features=5120, out_features=1280, bias=True)\n",
       "          (final_layer_norm): LayerNorm((1280,), eps=1e-05, elementwise_affine=True)\n",
       "        )\n",
       "      )\n",
       "      (layer_norm): LayerNorm((1280,), eps=1e-05, elementwise_affine=True)\n",
       "    )\n",
       "  )\n",
       "  (proj_out): Linear(in_features=1280, out_features=51866, bias=False)\n",
       ")"
      ]
     },
     "execution_count": 3,
     "metadata": {},
     "output_type": "execute_result"
    }
   ],
   "source": [
    "\n",
    "device = \"cuda:0\" if torch.cuda.is_available() else \"cpu\"\n",
    "torch_dtype = torch.float16 if torch.cuda.is_available() else torch.float32\n",
    "\n",
    "model_id = \"openai/whisper-large-v3\"\n",
    "\n",
    "model = AutoModelForSpeechSeq2Seq.from_pretrained(\n",
    "    model_id, torch_dtype=torch_dtype, low_cpu_mem_usage=True, use_safetensors=True\n",
    ")\n",
    "model.to(device)"
   ]
  },
  {
   "cell_type": "code",
   "execution_count": 4,
   "metadata": {},
   "outputs": [
    {
     "name": "stderr",
     "output_type": "stream",
     "text": [
      "Special tokens have been added in the vocabulary, make sure the associated word embeddings are fine-tuned or trained.\n"
     ]
    }
   ],
   "source": [
    "processor = AutoProcessor.from_pretrained(model_id)\n"
   ]
  },
  {
   "cell_type": "code",
   "execution_count": 5,
   "metadata": {},
   "outputs": [],
   "source": [
    "pipe = pipeline(\n",
    "    \"automatic-speech-recognition\",\n",
    "    model=model,\n",
    "    tokenizer=processor.tokenizer,\n",
    "    feature_extractor=processor.feature_extractor,\n",
    "    max_new_tokens=128,\n",
    "    chunk_length_s=30,\n",
    "    batch_size=16,\n",
    "    return_timestamps=True,\n",
    "    torch_dtype=torch_dtype,\n",
    "    device=device,\n",
    ")\n"
   ]
  },
  {
   "cell_type": "code",
   "execution_count": 6,
   "metadata": {},
   "outputs": [],
   "source": [
    "\n",
    "dataset = load_dataset(\"distil-whisper/librispeech_long\", \"clean\", split=\"validation\")\n",
    "sample = dataset[0][\"audio\"]\n",
    "\n",
    "\n"
   ]
  },
  {
   "cell_type": "code",
   "execution_count": 7,
   "metadata": {},
   "outputs": [
    {
     "name": "stderr",
     "output_type": "stream",
     "text": [
      "Due to a bug fix in https://github.com/huggingface/transformers/pull/28687 transcription using a multilingual Whisper will default to language detection followed by transcription instead of translation to English.This might be a breaking change for your use case. If you want to instead always translate your audio to English, make sure to pass `language='en'`.\n"
     ]
    },
    {
     "ename": "",
     "evalue": "",
     "output_type": "error",
     "traceback": [
      "\u001b[1;31mThe Kernel crashed while executing code in the current cell or a previous cell. \n",
      "\u001b[1;31mPlease review the code in the cell(s) to identify a possible cause of the failure. \n",
      "\u001b[1;31mClick <a href='https://aka.ms/vscodeJupyterKernelCrash'>here</a> for more info. \n",
      "\u001b[1;31mView Jupyter <a href='command:jupyter.viewOutput'>log</a> for further details."
     ]
    }
   ],
   "source": [
    "result = pipe(sample)\n",
    "print(result[\"text\"])"
   ]
  },
  {
   "cell_type": "code",
   "execution_count": null,
   "metadata": {},
   "outputs": [],
   "source": []
  }
 ],
 "metadata": {
  "kernelspec": {
   "display_name": "Python 3",
   "language": "python",
   "name": "python3"
  },
  "language_info": {
   "codemirror_mode": {
    "name": "ipython",
    "version": 3
   },
   "file_extension": ".py",
   "mimetype": "text/x-python",
   "name": "python",
   "nbconvert_exporter": "python",
   "pygments_lexer": "ipython3",
   "version": "3.8.10"
  }
 },
 "nbformat": 4,
 "nbformat_minor": 2
}

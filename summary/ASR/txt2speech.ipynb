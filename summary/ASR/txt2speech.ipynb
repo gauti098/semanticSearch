{
 "cells": [
  {
   "cell_type": "code",
   "execution_count": 2,
   "metadata": {},
   "outputs": [
    {
     "name": "stdout",
     "output_type": "stream",
     "text": [
      "Requirement already satisfied: gtts in /home/gautam/.local/lib/python3.8/site-packages (2.5.1)\n",
      "Requirement already satisfied: click<8.2,>=7.1 in /home/gautam/.local/lib/python3.8/site-packages (from gtts) (8.1.7)\n",
      "Requirement already satisfied: requests<3,>=2.27 in /home/gautam/.local/lib/python3.8/site-packages (from gtts) (2.31.0)\n",
      "Requirement already satisfied: charset-normalizer<4,>=2 in /home/gautam/.local/lib/python3.8/site-packages (from requests<3,>=2.27->gtts) (3.3.2)\n",
      "Requirement already satisfied: urllib3<3,>=1.21.1 in /home/gautam/.local/lib/python3.8/site-packages (from requests<3,>=2.27->gtts) (2.2.1)\n",
      "Requirement already satisfied: idna<4,>=2.5 in /usr/lib/python3/dist-packages (from requests<3,>=2.27->gtts) (2.8)\n",
      "Requirement already satisfied: certifi>=2017.4.17 in /home/gautam/.local/lib/python3.8/site-packages (from requests<3,>=2.27->gtts) (2024.2.2)\n"
     ]
    }
   ],
   "source": [
    "!pip install gtts"
   ]
  },
  {
   "cell_type": "code",
   "execution_count": 3,
   "metadata": {},
   "outputs": [
    {
     "name": "stderr",
     "output_type": "stream",
     "text": [
      "/home/gautam/.local/lib/python3.8/site-packages/tqdm/auto.py:21: TqdmWarning: IProgress not found. Please update jupyter and ipywidgets. See https://ipywidgets.readthedocs.io/en/stable/user_install.html\n",
      "  from .autonotebook import tqdm as notebook_tqdm\n"
     ]
    }
   ],
   "source": [
    "from transformers import pipeline\n",
    "from gtts import gTTS\n",
    "import os\n",
    "\n"
   ]
  },
  {
   "cell_type": "code",
   "execution_count": 8,
   "metadata": {},
   "outputs": [
    {
     "name": "stderr",
     "output_type": "stream",
     "text": [
      "Some weights of BertForSequenceClassification were not initialized from the model checkpoint at bert-base-uncased and are newly initialized: ['classifier.bias', 'classifier.weight']\n",
      "You should probably TRAIN this model on a down-stream task to be able to use it for predictions and inference.\n"
     ]
    }
   ],
   "source": [
    "# Load pre-trained sentiment analysis model\n",
    "# sentiment_classifier = pipeline(\"sentiment-analysis\")\n",
    "\n",
    "sentiment_classifier = pipeline(\"sentiment-analysis\", model=\"bert-base-uncased\")\n",
    "\n"
   ]
  },
  {
   "cell_type": "code",
   "execution_count": 9,
   "metadata": {},
   "outputs": [],
   "source": [
    "# Function to generate speech with appropriate tone based on sentiment\n",
    "def generate_speech(text):\n",
    "    # Analyze sentiment of the text\n",
    "    sentiment = sentiment_classifier(text)[0]['label']\n",
    "    \n",
    "    # Set tone based on sentiment\n",
    "    if sentiment == 'POSITIVE':\n",
    "        tone = 'neutral'\n",
    "    elif sentiment == 'NEGATIVE':\n",
    "        tone = 'sad'\n",
    "    else:\n",
    "        tone = 'happy' # Assuming neutral sentiment as happy\n",
    "    \n",
    "    # Convert text to speech with appropriate tone\n",
    "    tts = gTTS(text=text, lang='en', tld='com', slow=False)\n",
    "    tts.save(\"output.mp3\")\n",
    "\n",
    "    # Play the generated speech using pygame\n",
    "    pygame.mixer.init()\n",
    "    pygame.mixer.music.load(\"output.mp3\")\n",
    "    pygame.mixer.music.play()\n",
    "    while pygame.mixer.music.get_busy():\n",
    "        pygame.time.Clock().tick(10)"
   ]
  },
  {
   "cell_type": "code",
   "execution_count": 9,
   "metadata": {},
   "outputs": [
    {
     "name": "stderr",
     "output_type": "stream",
     "text": [
      "huggingface/tokenizers: The current process just got forked, after parallelism has already been used. Disabling parallelism to avoid deadlocks...\n",
      "To disable this warning, you can either:\n",
      "\t- Avoid using `tokenizers` before the fork if possible\n",
      "\t- Explicitly set the environment variable TOKENIZERS_PARALLELISM=(true | false)\n"
     ]
    },
    {
     "name": "stdout",
     "output_type": "stream",
     "text": [
      "Collecting pygame\n",
      "  Downloading pygame-2.5.2-cp38-cp38-manylinux_2_17_x86_64.manylinux2014_x86_64.whl (14.0 MB)\n",
      "\u001b[K     |████████████████████████████████| 14.0 MB 4.8 MB/s eta 0:00:01\n",
      "\u001b[?25hInstalling collected packages: pygame\n",
      "Successfully installed pygame-2.5.2\n"
     ]
    }
   ],
   "source": [
    "!pip install pygame"
   ]
  },
  {
   "cell_type": "code",
   "execution_count": 13,
   "metadata": {},
   "outputs": [],
   "source": [
    "import pygame\n",
    "\n",
    "# Example text\n",
    "text = \"I'm really disappointed with the service I received.\"\n",
    "\n",
    "\n",
    "\n",
    "\n",
    "# Generate speech with appropriate tone\n",
    "generate_speech(text)"
   ]
  },
  {
   "cell_type": "code",
   "execution_count": 18,
   "metadata": {},
   "outputs": [
    {
     "name": "stderr",
     "output_type": "stream",
     "text": [
      "No model was supplied, defaulted to distilbert/distilbert-base-uncased-finetuned-sst-2-english and revision af0f99b (https://huggingface.co/distilbert/distilbert-base-uncased-finetuned-sst-2-english).\n",
      "Using a pipeline without specifying a model name and revision in production is not recommended.\n"
     ]
    }
   ],
   "source": [
    "\n",
    "# Load pre-trained sentiment analysis model\n",
    "sentiment_classifier = pipeline(\"sentiment-analysis\")\n"
   ]
  },
  {
   "cell_type": "code",
   "execution_count": 25,
   "metadata": {},
   "outputs": [],
   "source": [
    "# Define speech modulation parameters\n",
    "TONE_SPEED = {'positive': 150, 'neutral': 200, 'negative': 250}  # Adjust speed (words per minute) as needed\n",
    "TONE_PITCH = {'positive': 50, 'neutral': 0, 'negative': -50}  # Adjust pitch in Hz as needed\n",
    "TONE_VOLUME = {'positive': 1.0, 'neutral': 0.8, 'negative': 0.6}"
   ]
  },
  {
   "cell_type": "code",
   "execution_count": 28,
   "metadata": {},
   "outputs": [],
   "source": [
    "def generate_speech(text):\n",
    "    # Analyze sentiment of the text\n",
    "    sentiment_result = sentiment_classifier(text)\n",
    "    sentiment = sentiment_result[0]['label'].lower()  # Convert sentiment to lowercase\n",
    "    \n",
    "    # Set tone based on sentiment\n",
    "    tone_speed = TONE_SPEED.get(sentiment, 200)  # Use default value of 200 if sentiment not found\n",
    "    tone_pitch = TONE_PITCH.get(sentiment, 0)  # Use default value of 0 if sentiment not found\n",
    "    tone_volume = TONE_VOLUME.get(sentiment, 0.8)  # Use default value of 0.8 if sentiment not found\n",
    "    \n",
    "    # Convert text to speech with appropriate tone\n",
    "    tts = gTTS(text=text, lang='en', tld='com', slow=False)\n",
    "    tts.save(\"output.mp3\")\n",
    "    \n",
    "    # Initialize pyttsx3 engine\n",
    "    engine = pyttsx3.init()\n",
    "    engine.setProperty('rate', tone_speed)\n",
    "    engine.setProperty('pitch', tone_pitch)\n",
    "    engine.setProperty('volume', tone_volume)\n",
    "    \n",
    "    # Play the generated speech\n",
    "    engine.say(text)\n",
    "    engine.runAndWait()"
   ]
  },
  {
   "cell_type": "code",
   "execution_count": 24,
   "metadata": {},
   "outputs": [
    {
     "name": "stderr",
     "output_type": "stream",
     "text": [
      "huggingface/tokenizers: The current process just got forked, after parallelism has already been used. Disabling parallelism to avoid deadlocks...\n",
      "To disable this warning, you can either:\n",
      "\t- Avoid using `tokenizers` before the fork if possible\n",
      "\t- Explicitly set the environment variable TOKENIZERS_PARALLELISM=(true | false)\n"
     ]
    },
    {
     "name": "stdout",
     "output_type": "stream",
     "text": [
      "Collecting pyttsx3\n",
      "  Downloading pyttsx3-2.90-py3-none-any.whl (39 kB)\n",
      "Installing collected packages: pyttsx3\n",
      "Successfully installed pyttsx3-2.90\n"
     ]
    }
   ],
   "source": [
    "!pip install pyttsx3\n"
   ]
  },
  {
   "cell_type": "code",
   "execution_count": 30,
   "metadata": {},
   "outputs": [],
   "source": [
    "import pyttsx3\n",
    "# Example text\n",
    "text = \"I'm feeling really sad today!\"\n",
    "\n",
    "# Generate speech with appropriate tone\n",
    "generate_speech(text)"
   ]
  },
  {
   "cell_type": "code",
   "execution_count": null,
   "metadata": {},
   "outputs": [],
   "source": []
  }
 ],
 "metadata": {
  "kernelspec": {
   "display_name": "Python 3",
   "language": "python",
   "name": "python3"
  },
  "language_info": {
   "codemirror_mode": {
    "name": "ipython",
    "version": 3
   },
   "file_extension": ".py",
   "mimetype": "text/x-python",
   "name": "python",
   "nbconvert_exporter": "python",
   "pygments_lexer": "ipython3",
   "version": "3.8.10"
  }
 },
 "nbformat": 4,
 "nbformat_minor": 2
}

{
 "cells": [
  {
   "cell_type": "code",
   "execution_count": 3,
   "metadata": {},
   "outputs": [
    {
     "name": "stderr",
     "output_type": "stream",
     "text": [
      "/home/gautam/.local/lib/python3.8/site-packages/tqdm/auto.py:21: TqdmWarning: IProgress not found. Please update jupyter and ipywidgets. See https://ipywidgets.readthedocs.io/en/stable/user_install.html\n",
      "  from .autonotebook import tqdm as notebook_tqdm\n"
     ]
    }
   ],
   "source": [
    "from elasticsearch import Elasticsearch\n",
    "from sentence_transformers import SentenceTransformer\n",
    "import pandas as pd"
   ]
  },
  {
   "cell_type": "code",
   "execution_count": 46,
   "metadata": {},
   "outputs": [
    {
     "name": "stdout",
     "output_type": "stream",
     "text": [
      "videoss\n",
      "videos\n",
      "articles\n",
      "semanticsearch\n",
      "videos_streamming\n",
      "videossnew\n",
      "job_postings\n"
     ]
    },
    {
     "name": "stderr",
     "output_type": "stream",
     "text": [
      "/tmp/ipykernel_10772/1346631996.py:7: ElasticsearchWarning: Elasticsearch built-in security features are not enabled. Without authentication, your cluster could be accessible to anyone. See https://www.elastic.co/guide/en/elasticsearch/reference/7.17/security-minimal-setup.html to enable security.\n",
      "  index_names = es.indices.get_alias().keys()\n"
     ]
    }
   ],
   "source": [
    "from elasticsearch import Elasticsearch\n",
    "\n",
    "# Initialize Elasticsearch client\n",
    "es = Elasticsearch([{'host': 'localhost', 'port': 9200, 'scheme': 'http'}])\n",
    "\n",
    "# Get all index names\n",
    "index_names = es.indices.get_alias().keys()\n",
    "\n",
    "# Print index names\n",
    "for index_name in index_names:\n",
    "    print(index_name)\n"
   ]
  },
  {
   "cell_type": "code",
   "execution_count": 32,
   "metadata": {},
   "outputs": [
    {
     "name": "stderr",
     "output_type": "stream",
     "text": [
      "/tmp/ipykernel_10772/3029990718.py:15: DeprecationWarning: The 'body' parameter is deprecated and will be removed in a future version. Instead use individual parameters.\n",
      "  search_result = es.search(index=index_name, body=search_query, scroll=scroll, size=page_size)\n"
     ]
    },
    {
     "ename": "NotFoundError",
     "evalue": "NotFoundError(404, 'index_not_found_exception', 'no such index [videossnew]', videossnew, index_or_alias)",
     "output_type": "error",
     "traceback": [
      "\u001b[0;31m---------------------------------------------------------------------------\u001b[0m",
      "\u001b[0;31mNotFoundError\u001b[0m                             Traceback (most recent call last)",
      "Cell \u001b[0;32mIn[32], line 15\u001b[0m\n\u001b[1;32m     12\u001b[0m search_query \u001b[38;5;241m=\u001b[39m {\u001b[38;5;124m\"\u001b[39m\u001b[38;5;124mquery\u001b[39m\u001b[38;5;124m\"\u001b[39m: {\u001b[38;5;124m\"\u001b[39m\u001b[38;5;124mmatch_all\u001b[39m\u001b[38;5;124m\"\u001b[39m: {}}}\n\u001b[1;32m     14\u001b[0m \u001b[38;5;66;03m# Perform initial search to get the first page of results\u001b[39;00m\n\u001b[0;32m---> 15\u001b[0m search_result \u001b[38;5;241m=\u001b[39m \u001b[43mes\u001b[49m\u001b[38;5;241;43m.\u001b[39;49m\u001b[43msearch\u001b[49m\u001b[43m(\u001b[49m\u001b[43mindex\u001b[49m\u001b[38;5;241;43m=\u001b[39;49m\u001b[43mindex_name\u001b[49m\u001b[43m,\u001b[49m\u001b[43m \u001b[49m\u001b[43mbody\u001b[49m\u001b[38;5;241;43m=\u001b[39;49m\u001b[43msearch_query\u001b[49m\u001b[43m,\u001b[49m\u001b[43m \u001b[49m\u001b[43mscroll\u001b[49m\u001b[38;5;241;43m=\u001b[39;49m\u001b[43mscroll\u001b[49m\u001b[43m,\u001b[49m\u001b[43m \u001b[49m\u001b[43msize\u001b[49m\u001b[38;5;241;43m=\u001b[39;49m\u001b[43mpage_size\u001b[49m\u001b[43m)\u001b[49m\n\u001b[1;32m     16\u001b[0m scroll_id \u001b[38;5;241m=\u001b[39m search_result[\u001b[38;5;124m\"\u001b[39m\u001b[38;5;124m_scroll_id\u001b[39m\u001b[38;5;124m\"\u001b[39m]\n\u001b[1;32m     17\u001b[0m hits \u001b[38;5;241m=\u001b[39m search_result[\u001b[38;5;124m\"\u001b[39m\u001b[38;5;124mhits\u001b[39m\u001b[38;5;124m\"\u001b[39m][\u001b[38;5;124m\"\u001b[39m\u001b[38;5;124mhits\u001b[39m\u001b[38;5;124m\"\u001b[39m]\n",
      "File \u001b[0;32m~/.local/lib/python3.8/site-packages/elasticsearch/_sync/client/utils.py:414\u001b[0m, in \u001b[0;36m_rewrite_parameters.<locals>.wrapper.<locals>.wrapped\u001b[0;34m(*args, **kwargs)\u001b[0m\n\u001b[1;32m    411\u001b[0m         \u001b[38;5;28;01mexcept\u001b[39;00m \u001b[38;5;167;01mKeyError\u001b[39;00m:\n\u001b[1;32m    412\u001b[0m             \u001b[38;5;28;01mpass\u001b[39;00m\n\u001b[0;32m--> 414\u001b[0m \u001b[38;5;28;01mreturn\u001b[39;00m \u001b[43mapi\u001b[49m\u001b[43m(\u001b[49m\u001b[38;5;241;43m*\u001b[39;49m\u001b[43margs\u001b[49m\u001b[43m,\u001b[49m\u001b[43m \u001b[49m\u001b[38;5;241;43m*\u001b[39;49m\u001b[38;5;241;43m*\u001b[39;49m\u001b[43mkwargs\u001b[49m\u001b[43m)\u001b[49m\n",
      "File \u001b[0;32m~/.local/lib/python3.8/site-packages/elasticsearch/_sync/client/__init__.py:3924\u001b[0m, in \u001b[0;36mElasticsearch.search\u001b[0;34m(self, index, aggregations, aggs, allow_no_indices, allow_partial_search_results, analyze_wildcard, analyzer, batched_reduce_size, ccs_minimize_roundtrips, collapse, default_operator, df, docvalue_fields, error_trace, expand_wildcards, explain, ext, fields, filter_path, from_, highlight, human, ignore_throttled, ignore_unavailable, indices_boost, knn, lenient, max_concurrent_shard_requests, min_compatible_shard_node, min_score, pit, post_filter, pre_filter_shard_size, preference, pretty, profile, q, query, rank, request_cache, rescore, rest_total_hits_as_int, routing, runtime_mappings, script_fields, scroll, search_after, search_type, seq_no_primary_term, size, slice, sort, source, source_excludes, source_includes, stats, stored_fields, suggest, suggest_field, suggest_mode, suggest_size, suggest_text, terminate_after, timeout, track_scores, track_total_hits, typed_keys, version)\u001b[0m\n\u001b[1;32m   3922\u001b[0m \u001b[38;5;28;01mif\u001b[39;00m __body \u001b[38;5;129;01mis\u001b[39;00m \u001b[38;5;129;01mnot\u001b[39;00m \u001b[38;5;28;01mNone\u001b[39;00m:\n\u001b[1;32m   3923\u001b[0m     __headers[\u001b[38;5;124m\"\u001b[39m\u001b[38;5;124mcontent-type\u001b[39m\u001b[38;5;124m\"\u001b[39m] \u001b[38;5;241m=\u001b[39m \u001b[38;5;124m\"\u001b[39m\u001b[38;5;124mapplication/json\u001b[39m\u001b[38;5;124m\"\u001b[39m\n\u001b[0;32m-> 3924\u001b[0m \u001b[38;5;28;01mreturn\u001b[39;00m \u001b[38;5;28;43mself\u001b[39;49m\u001b[38;5;241;43m.\u001b[39;49m\u001b[43mperform_request\u001b[49m\u001b[43m(\u001b[49m\u001b[43m  \u001b[49m\u001b[38;5;66;43;03m# type: ignore[return-value]\u001b[39;49;00m\n\u001b[1;32m   3925\u001b[0m \u001b[43m    \u001b[49m\u001b[38;5;124;43m\"\u001b[39;49m\u001b[38;5;124;43mPOST\u001b[39;49m\u001b[38;5;124;43m\"\u001b[39;49m\u001b[43m,\u001b[49m\u001b[43m \u001b[49m\u001b[43m__path\u001b[49m\u001b[43m,\u001b[49m\u001b[43m \u001b[49m\u001b[43mparams\u001b[49m\u001b[38;5;241;43m=\u001b[39;49m\u001b[43m__query\u001b[49m\u001b[43m,\u001b[49m\u001b[43m \u001b[49m\u001b[43mheaders\u001b[49m\u001b[38;5;241;43m=\u001b[39;49m\u001b[43m__headers\u001b[49m\u001b[43m,\u001b[49m\u001b[43m \u001b[49m\u001b[43mbody\u001b[49m\u001b[38;5;241;43m=\u001b[39;49m\u001b[43m__body\u001b[49m\n\u001b[1;32m   3926\u001b[0m \u001b[43m\u001b[49m\u001b[43m)\u001b[49m\n",
      "File \u001b[0;32m~/.local/lib/python3.8/site-packages/elasticsearch/_sync/client/_base.py:320\u001b[0m, in \u001b[0;36mBaseClient.perform_request\u001b[0;34m(self, method, path, params, headers, body)\u001b[0m\n\u001b[1;32m    317\u001b[0m         \u001b[38;5;28;01mexcept\u001b[39;00m (\u001b[38;5;167;01mValueError\u001b[39;00m, \u001b[38;5;167;01mKeyError\u001b[39;00m, \u001b[38;5;167;01mTypeError\u001b[39;00m):\n\u001b[1;32m    318\u001b[0m             \u001b[38;5;28;01mpass\u001b[39;00m\n\u001b[0;32m--> 320\u001b[0m     \u001b[38;5;28;01mraise\u001b[39;00m HTTP_EXCEPTIONS\u001b[38;5;241m.\u001b[39mget(meta\u001b[38;5;241m.\u001b[39mstatus, ApiError)(\n\u001b[1;32m    321\u001b[0m         message\u001b[38;5;241m=\u001b[39mmessage, meta\u001b[38;5;241m=\u001b[39mmeta, body\u001b[38;5;241m=\u001b[39mresp_body\n\u001b[1;32m    322\u001b[0m     )\n\u001b[1;32m    324\u001b[0m \u001b[38;5;66;03m# 'X-Elastic-Product: Elasticsearch' should be on every 2XX response.\u001b[39;00m\n\u001b[1;32m    325\u001b[0m \u001b[38;5;28;01mif\u001b[39;00m \u001b[38;5;129;01mnot\u001b[39;00m \u001b[38;5;28mself\u001b[39m\u001b[38;5;241m.\u001b[39m_verified_elasticsearch:\n\u001b[1;32m    326\u001b[0m     \u001b[38;5;66;03m# If the header is set we mark the server as verified.\u001b[39;00m\n",
      "\u001b[0;31mNotFoundError\u001b[0m: NotFoundError(404, 'index_not_found_exception', 'no such index [videossnew]', videossnew, index_or_alias)"
     ]
    }
   ],
   "source": [
    "from elasticsearch import Elasticsearch\n",
    "\n",
    "# Initialize Elasticsearch client\n",
    "es = Elasticsearch([{'host': 'localhost', 'port': 9200, 'scheme': 'http'}])\n",
    "\n",
    "# Index name\n",
    "index_name = \"videossnew\"\n",
    "\n",
    "# Initialize variables for pagination\n",
    "scroll = \"1m\"  # Keep the search context open for 1 minute\n",
    "page_size = 1000  # Number of documents to fetch in each scroll request\n",
    "search_query = {\"query\": {\"match_all\": {}}}\n",
    "\n",
    "# Perform initial search to get the first page of results\n",
    "search_result = es.search(index=index_name, body=search_query, scroll=scroll, size=page_size)\n",
    "scroll_id = search_result[\"_scroll_id\"]\n",
    "hits = search_result[\"hits\"][\"hits\"]\n",
    "\n",
    "# Print each document from the first page\n",
    "for hit in hits:\n",
    "    print(hit[\"_source\"])\n",
    "\n",
    "# Fetch subsequent pages of results using scroll\n",
    "while True:\n",
    "    # Perform scroll request to get the next page of results\n",
    "    scroll_result = es.scroll(scroll_id=scroll_id, scroll=scroll)\n",
    "    hits = scroll_result[\"hits\"][\"hits\"]\n",
    "\n",
    "    # Break the loop if there are no more hits\n",
    "    if not hits:\n",
    "        break\n",
    "\n",
    "    # Print each document from the current page\n",
    "    for hit in hits:\n",
    "        print(hit[\"_source\"])\n"
   ]
  },
  {
   "cell_type": "code",
   "execution_count": 41,
   "metadata": {},
   "outputs": [],
   "source": [
    "import requests\n",
    "\n",
    "class VideoSearchEngine:\n",
    "    def __init__(self, index_name=\"videossnew\", host=\"localhost\", port=9200):\n",
    "        self.es = Elasticsearch([{'host': 'elsticsearch-ma', 'port': 9200, 'scheme': 'http'}])\n",
    "        self.index_name = index_name\n",
    "        self.embedder = SentenceTransformer(\"all-MiniLM-L6-v2\")\n",
    "\n",
    "    def setup_index(self):\n",
    "        if not self.es.indices.exists(index=self.index_name):\n",
    "            mappings = {\n",
    "                \"properties\": {\n",
    "                    \"title\": {\"type\": \"text\"},\n",
    "                    \"embedding\": {\"type\": \"dense_vector\", \"dims\": 384},\n",
    "                    \"url\": {\"type\": \"keyword\"}\n",
    "                }\n",
    "            }\n",
    "\n",
    "            self.es.indices.create(index=self.index_name, body={\"mappings\": mappings})\n",
    "            print(f\"Index '{self.index_name}' created.\")\n",
    "        else:\n",
    "            print(f\"Index '{self.index_name}' already exists.\")\n",
    "\n",
    "\n",
    "    def index_article(self):\n",
    "        title = \"kohli fastest century\"\n",
    "        embedding = self.embedder.encode(title)\n",
    "\n",
    "        # Index the video with its embedding\n",
    "        doc = {\"title\": title, \"embedding\": embedding.tolist(), \"url\": \"https://wwe61.comm\"}\n",
    "        self.es.index(index=self.index_name, body=doc)\n",
    "\n",
    "\n",
    "\n",
    "    def semantic_search(self, query, top_k=10):\n",
    "        query_embedding = self.embedder.encode(query)\n",
    "        search_body = {\n",
    "            \"query\": {\n",
    "                \"script_score\": {\n",
    "                    \"query\": {\"match_all\": {}},\n",
    "                    \"script\": {\n",
    "                        \"source\": \"cosineSimilarity(params.query_vector, 'embedding') + 1.0\",\n",
    "                        \"params\": {\"query_vector\": query_embedding.tolist()}\n",
    "                    }\n",
    "                }\n",
    "            }\n",
    "        }\n",
    "        response = self.es.search(index=self.index_name, body=search_body, size=top_k)\n",
    "        hits = response[\"hits\"][\"hits\"]\n",
    "        return [{\"title\": hit[\"_source\"][\"title\"], \"url\": hit[\"_source\"][\"url\"]} for hit in hits]\n"
   ]
  },
  {
   "cell_type": "code",
   "execution_count": 42,
   "metadata": {},
   "outputs": [
    {
     "name": "stdout",
     "output_type": "stream",
     "text": [
      "Index 'videossnew' created.\n"
     ]
    },
    {
     "name": "stderr",
     "output_type": "stream",
     "text": [
      "/tmp/ipykernel_10772/2100391735.py:10: ElasticsearchWarning: Elasticsearch built-in security features are not enabled. Without authentication, your cluster could be accessible to anyone. See https://www.elastic.co/guide/en/elasticsearch/reference/7.17/security-minimal-setup.html to enable security.\n",
      "  if not self.es.indices.exists(index=self.index_name):\n",
      "/tmp/ipykernel_10772/2100391735.py:19: DeprecationWarning: The 'body' parameter is deprecated and will be removed in a future version. Instead use individual parameters.\n",
      "  self.es.indices.create(index=self.index_name, body={\"mappings\": mappings})\n",
      "/tmp/ipykernel_10772/2100391735.py:19: ElasticsearchWarning: Elasticsearch built-in security features are not enabled. Without authentication, your cluster could be accessible to anyone. See https://www.elastic.co/guide/en/elasticsearch/reference/7.17/security-minimal-setup.html to enable security.\n",
      "  self.es.indices.create(index=self.index_name, body={\"mappings\": mappings})\n"
     ]
    }
   ],
   "source": [
    "# Example usage\n",
    "search_engine = VideoSearchEngine()\n",
    "search_engine.setup_index()\n",
    "\n"
   ]
  },
  {
   "cell_type": "code",
   "execution_count": 15,
   "metadata": {},
   "outputs": [],
   "source": [
    "# Fetch videos from API\n",
    "# videos = search_engine.fetch_data_from_api()\n",
    "# print(videos)"
   ]
  },
  {
   "cell_type": "code",
   "execution_count": 43,
   "metadata": {},
   "outputs": [
    {
     "name": "stderr",
     "output_type": "stream",
     "text": [
      "/tmp/ipykernel_10772/2100391735.py:31: DeprecationWarning: The 'body' parameter is deprecated and will be removed in a future version. Instead use the 'document' parameter. See https://github.com/elastic/elasticsearch-py/issues/1698 for more information\n",
      "  self.es.index(index=self.index_name, body=doc)\n",
      "/tmp/ipykernel_10772/2100391735.py:31: ElasticsearchWarning: Elasticsearch built-in security features are not enabled. Without authentication, your cluster could be accessible to anyone. See https://www.elastic.co/guide/en/elasticsearch/reference/7.17/security-minimal-setup.html to enable security.\n",
      "  self.es.index(index=self.index_name, body=doc)\n"
     ]
    }
   ],
   "source": [
    "# Index videos\n",
    "search_engine = VideoSearchEngine()\n",
    "search_engine.index_article()\n",
    "\n"
   ]
  },
  {
   "cell_type": "code",
   "execution_count": 44,
   "metadata": {},
   "outputs": [
    {
     "name": "stderr",
     "output_type": "stream",
     "text": [
      "/tmp/ipykernel_10772/2100391735.py:48: DeprecationWarning: The 'body' parameter is deprecated and will be removed in a future version. Instead use individual parameters.\n",
      "  response = self.es.search(index=self.index_name, body=search_body, size=top_k)\n",
      "/tmp/ipykernel_10772/2100391735.py:48: ElasticsearchWarning: Elasticsearch built-in security features are not enabled. Without authentication, your cluster could be accessible to anyone. See https://www.elastic.co/guide/en/elasticsearch/reference/7.17/security-minimal-setup.html to enable security.\n",
      "  response = self.es.search(index=self.index_name, body=search_body, size=top_k)\n"
     ]
    }
   ],
   "source": [
    "# Perform semantic search\n",
    "query = \"kohli fastest\"\n",
    "results = search_engine.semantic_search(query)"
   ]
  },
  {
   "cell_type": "code",
   "execution_count": 45,
   "metadata": {},
   "outputs": [
    {
     "name": "stdout",
     "output_type": "stream",
     "text": [
      "Top 1 videos related to 'kohli fastest':\n",
      "1. kohli fastest century: https://wwe61.comm\n"
     ]
    }
   ],
   "source": [
    "# Display results\n",
    "print(f\"Top {len(results)} videos related to '{query}':\")\n",
    "for idx, result in enumerate(results, start=1):\n",
    "    print(f\"{idx}. {result['title']}: {result['url']}\")"
   ]
  },
  {
   "cell_type": "code",
   "execution_count": 9,
   "metadata": {},
   "outputs": [
    {
     "name": "stderr",
     "output_type": "stream",
     "text": [
      "/tmp/ipykernel_37300/267053371.py:116: DeprecationWarning: The 'body' parameter is deprecated and will be removed in a future version. Instead use individual parameters.\n",
      "  response = self.es.search(index=self.index_name, body=search_body, size=top_k)\n",
      "/tmp/ipykernel_37300/267053371.py:116: ElasticsearchWarning: Elasticsearch built-in security features are not enabled. Without authentication, your cluster could be accessible to anyone. See https://www.elastic.co/guide/en/elasticsearch/reference/7.17/security-minimal-setup.html to enable security.\n",
      "  response = self.es.search(index=self.index_name, body=search_body, size=top_k)\n"
     ]
    }
   ],
   "source": [
    "\n",
    "\n",
    "\n",
    "# Perform semantic search\n",
    "query =\"\"\n",
    "results = search_engine.semantic_search(query)\n",
    "\n"
   ]
  },
  {
   "cell_type": "code",
   "execution_count": 10,
   "metadata": {},
   "outputs": [
    {
     "name": "stdout",
     "output_type": "stream",
     "text": [
      "Top 10 articles related to '':\n",
      "1. The Thrill of Extreme Sports: https://example.com/14\n",
      "2. The Thrill of Extreme Sports: https://example.com/14\n",
      "3. The Thrill of Extreme Sports: https://example.com/14\n",
      "4. The Thrill of Extreme Sports: https://example.com/14\n",
      "5. The Thrill of Extreme Sports: https://example.com/14\n",
      "6. The Thrill of Extreme Sports: https://example.com/14\n",
      "7. The Thrill of Extreme Sports: https://example.com/14\n",
      "8. The Thrill of Extreme Sports: https://example.com/14\n",
      "9. world cup final: https://example.com/6001\n",
      "10. world cup final: https://example.com/6001\n"
     ]
    }
   ],
   "source": [
    "# Display results\n",
    "print(f\"Top {len(results)} articles related to '{query}':\")\n",
    "for idx, result in enumerate(results, start=1):\n",
    "    print(f\"{idx}. {result['title']}: {result['url']}\")\n"
   ]
  },
  {
   "cell_type": "code",
   "execution_count": null,
   "metadata": {},
   "outputs": [],
   "source": []
  }
 ],
 "metadata": {
  "kernelspec": {
   "display_name": "Python 3",
   "language": "python",
   "name": "python3"
  },
  "language_info": {
   "codemirror_mode": {
    "name": "ipython",
    "version": 3
   },
   "file_extension": ".py",
   "mimetype": "text/x-python",
   "name": "python",
   "nbconvert_exporter": "python",
   "pygments_lexer": "ipython3",
   "version": "3.8.10"
  }
 },
 "nbformat": 4,
 "nbformat_minor": 2
}
